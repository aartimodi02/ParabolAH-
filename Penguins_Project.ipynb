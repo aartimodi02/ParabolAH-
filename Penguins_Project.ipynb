{
  "cells": [
    {
      "cell_type": "markdown",
      "metadata": {
        "id": "view-in-github",
        "colab_type": "text"
      },
      "source": [
        "<a href=\"https://colab.research.google.com/github/aartimodi02/ParabolAH-/blob/main/Penguins_Project.ipynb\" target=\"_parent\"><img src=\"https://colab.research.google.com/assets/colab-badge.svg\" alt=\"Open In Colab\"/></a>"
      ]
    },
    {
      "cell_type": "markdown",
      "id": "1b3f6927",
      "metadata": {
        "id": "1b3f6927"
      },
      "source": [
        "# **Penguin Project**\n",
        "\n",
        "\n",
        "\n",
        "\n",
        "\n",
        "\n",
        "\n",
        "\n",
        "\n"
      ]
    },
    {
      "cell_type": "markdown",
      "source": [
        "By Aarti Modi and Akshyae Singh"
      ],
      "metadata": {
        "id": "JyUT4JUBynuf"
      },
      "id": "JyUT4JUBynuf"
    },
    {
      "cell_type": "markdown",
      "id": "af53fa7f",
      "metadata": {
        "id": "af53fa7f"
      },
      "source": [
        "## **Group Contributions Statement:**\n",
        "\n",
        "\n",
        "\n"
      ]
    },
    {
      "cell_type": "code",
      "source": [
        "import warnings\n",
        "warnings.filterwarnings(\"ignore\")"
      ],
      "metadata": {
        "id": "Y-qZN5udID9O"
      },
      "id": "Y-qZN5udID9O",
      "execution_count": null,
      "outputs": []
    },
    {
      "cell_type": "markdown",
      "id": "998c6c18",
      "metadata": {
        "id": "998c6c18"
      },
      "source": [
        "two of us wrote the data acquisition, preparation and exploratory analysis. Akshyae led Figure 2, Table 1-2, and the linear regression model. Aarti led Figure 1, the Random Forest model and the K-nearest neighbor models. We both collectively worked on the problems we faced along the way. We both wrote the explanation of our own figures and the explanation of our own models, and the conclusion. We both checked each other’s work and made revisions to code and writing."
      ]
    },
    {
      "cell_type": "markdown",
      "id": "2ea50d85",
      "metadata": {
        "id": "2ea50d85"
      },
      "source": [
        "## **Data import and cleaning:**"
      ]
    },
    {
      "cell_type": "code",
      "execution_count": null,
      "id": "9e9fe2b2",
      "metadata": {
        "id": "9e9fe2b2"
      },
      "outputs": [],
      "source": [
        "import pandas as pd\n",
        "from matplotlib import pyplot as plt\n",
        "import numpy as np\n",
        "import seaborn as sns\n",
        "from sklearn import tree, preprocessing\n",
        "from sklearn.model_selection import train_test_split\n",
        "from sklearn.model_selection import cross_val_score\n",
        "from sklearn.linear_model import LogisticRegression\n",
        "from sklearn.ensemble import RandomForestClassifier\n",
        "from sklearn.svm import SVC\n",
        "from sklearn.metrics import accuracy_score, confusion_matrix\n",
        "from sklearn.tree import DecisionTreeClassifier\n",
        "\n",
        ""
      ]
    },
    {
      "cell_type": "code",
      "execution_count": null,
      "id": "02b3d320",
      "metadata": {
        "id": "02b3d320"
      },
      "outputs": [],
      "source": [
        "url = 'https://philchodrow.github.io/PIC16A/datasets/palmer_penguins.csv'\n",
        "penguins = pd.read_csv(url)\n",
        "\n",
        "# shorten the species name\n",
        "penguins[\"Species\"] = penguins[\"Species\"].str.split().str.get(0)\n"
      ]
    },
    {
      "cell_type": "code",
      "execution_count": null,
      "id": "ccc73fc0",
      "metadata": {
        "id": "ccc73fc0",
        "outputId": "50aca04c-ea08-4989-a89e-979a237a07c4",
        "colab": {
          "base_uri": "https://localhost:8080/"
        }
      },
      "outputs": [
        {
          "output_type": "execute_result",
          "data": {
            "text/plain": [
              "    studyName  Sample Number Species  Region     Island               Stage  \\\n",
              "0     PAL0708              1  Adelie  Anvers  Torgersen  Adult, 1 Egg Stage   \n",
              "1     PAL0708              2  Adelie  Anvers  Torgersen  Adult, 1 Egg Stage   \n",
              "2     PAL0708              3  Adelie  Anvers  Torgersen  Adult, 1 Egg Stage   \n",
              "3     PAL0708              4  Adelie  Anvers  Torgersen  Adult, 1 Egg Stage   \n",
              "4     PAL0708              5  Adelie  Anvers  Torgersen  Adult, 1 Egg Stage   \n",
              "..        ...            ...     ...     ...        ...                 ...   \n",
              "339   PAL0910            120  Gentoo  Anvers     Biscoe  Adult, 1 Egg Stage   \n",
              "340   PAL0910            121  Gentoo  Anvers     Biscoe  Adult, 1 Egg Stage   \n",
              "341   PAL0910            122  Gentoo  Anvers     Biscoe  Adult, 1 Egg Stage   \n",
              "342   PAL0910            123  Gentoo  Anvers     Biscoe  Adult, 1 Egg Stage   \n",
              "343   PAL0910            124  Gentoo  Anvers     Biscoe  Adult, 1 Egg Stage   \n",
              "\n",
              "    Individual ID Clutch Completion  Date Egg  Culmen Length (mm)  \\\n",
              "0            N1A1               Yes  11/11/07                39.1   \n",
              "1            N1A2               Yes  11/11/07                39.5   \n",
              "2            N2A1               Yes  11/16/07                40.3   \n",
              "3            N2A2               Yes  11/16/07                 NaN   \n",
              "4            N3A1               Yes  11/16/07                36.7   \n",
              "..            ...               ...       ...                 ...   \n",
              "339         N38A2                No   12/1/09                 NaN   \n",
              "340         N39A1               Yes  11/22/09                46.8   \n",
              "341         N39A2               Yes  11/22/09                50.4   \n",
              "342         N43A1               Yes  11/22/09                45.2   \n",
              "343         N43A2               Yes  11/22/09                49.9   \n",
              "\n",
              "     Culmen Depth (mm)  Flipper Length (mm)  Body Mass (g)     Sex  \\\n",
              "0                 18.7                181.0         3750.0    MALE   \n",
              "1                 17.4                186.0         3800.0  FEMALE   \n",
              "2                 18.0                195.0         3250.0  FEMALE   \n",
              "3                  NaN                  NaN            NaN     NaN   \n",
              "4                 19.3                193.0         3450.0  FEMALE   \n",
              "..                 ...                  ...            ...     ...   \n",
              "339                NaN                  NaN            NaN     NaN   \n",
              "340               14.3                215.0         4850.0  FEMALE   \n",
              "341               15.7                222.0         5750.0    MALE   \n",
              "342               14.8                212.0         5200.0  FEMALE   \n",
              "343               16.1                213.0         5400.0    MALE   \n",
              "\n",
              "     Delta 15 N (o/oo)  Delta 13 C (o/oo)                        Comments  \n",
              "0                  NaN                NaN  Not enough blood for isotopes.  \n",
              "1              8.94956          -24.69454                             NaN  \n",
              "2              8.36821          -25.33302                             NaN  \n",
              "3                  NaN                NaN              Adult not sampled.  \n",
              "4              8.76651          -25.32426                             NaN  \n",
              "..                 ...                ...                             ...  \n",
              "339                NaN                NaN                             NaN  \n",
              "340            8.41151          -26.13832                             NaN  \n",
              "341            8.30166          -26.04117                             NaN  \n",
              "342            8.24246          -26.11969                             NaN  \n",
              "343            8.36390          -26.15531                             NaN  \n",
              "\n",
              "[344 rows x 17 columns]"
            ],
            "text/html": [
              "\n",
              "  <div id=\"df-a06f326f-205a-4feb-8390-ca63c6e75d46\">\n",
              "    <div class=\"colab-df-container\">\n",
              "      <div>\n",
              "<style scoped>\n",
              "    .dataframe tbody tr th:only-of-type {\n",
              "        vertical-align: middle;\n",
              "    }\n",
              "\n",
              "    .dataframe tbody tr th {\n",
              "        vertical-align: top;\n",
              "    }\n",
              "\n",
              "    .dataframe thead th {\n",
              "        text-align: right;\n",
              "    }\n",
              "</style>\n",
              "<table border=\"1\" class=\"dataframe\">\n",
              "  <thead>\n",
              "    <tr style=\"text-align: right;\">\n",
              "      <th></th>\n",
              "      <th>studyName</th>\n",
              "      <th>Sample Number</th>\n",
              "      <th>Species</th>\n",
              "      <th>Region</th>\n",
              "      <th>Island</th>\n",
              "      <th>Stage</th>\n",
              "      <th>Individual ID</th>\n",
              "      <th>Clutch Completion</th>\n",
              "      <th>Date Egg</th>\n",
              "      <th>Culmen Length (mm)</th>\n",
              "      <th>Culmen Depth (mm)</th>\n",
              "      <th>Flipper Length (mm)</th>\n",
              "      <th>Body Mass (g)</th>\n",
              "      <th>Sex</th>\n",
              "      <th>Delta 15 N (o/oo)</th>\n",
              "      <th>Delta 13 C (o/oo)</th>\n",
              "      <th>Comments</th>\n",
              "    </tr>\n",
              "  </thead>\n",
              "  <tbody>\n",
              "    <tr>\n",
              "      <th>0</th>\n",
              "      <td>PAL0708</td>\n",
              "      <td>1</td>\n",
              "      <td>Adelie</td>\n",
              "      <td>Anvers</td>\n",
              "      <td>Torgersen</td>\n",
              "      <td>Adult, 1 Egg Stage</td>\n",
              "      <td>N1A1</td>\n",
              "      <td>Yes</td>\n",
              "      <td>11/11/07</td>\n",
              "      <td>39.1</td>\n",
              "      <td>18.7</td>\n",
              "      <td>181.0</td>\n",
              "      <td>3750.0</td>\n",
              "      <td>MALE</td>\n",
              "      <td>NaN</td>\n",
              "      <td>NaN</td>\n",
              "      <td>Not enough blood for isotopes.</td>\n",
              "    </tr>\n",
              "    <tr>\n",
              "      <th>1</th>\n",
              "      <td>PAL0708</td>\n",
              "      <td>2</td>\n",
              "      <td>Adelie</td>\n",
              "      <td>Anvers</td>\n",
              "      <td>Torgersen</td>\n",
              "      <td>Adult, 1 Egg Stage</td>\n",
              "      <td>N1A2</td>\n",
              "      <td>Yes</td>\n",
              "      <td>11/11/07</td>\n",
              "      <td>39.5</td>\n",
              "      <td>17.4</td>\n",
              "      <td>186.0</td>\n",
              "      <td>3800.0</td>\n",
              "      <td>FEMALE</td>\n",
              "      <td>8.94956</td>\n",
              "      <td>-24.69454</td>\n",
              "      <td>NaN</td>\n",
              "    </tr>\n",
              "    <tr>\n",
              "      <th>2</th>\n",
              "      <td>PAL0708</td>\n",
              "      <td>3</td>\n",
              "      <td>Adelie</td>\n",
              "      <td>Anvers</td>\n",
              "      <td>Torgersen</td>\n",
              "      <td>Adult, 1 Egg Stage</td>\n",
              "      <td>N2A1</td>\n",
              "      <td>Yes</td>\n",
              "      <td>11/16/07</td>\n",
              "      <td>40.3</td>\n",
              "      <td>18.0</td>\n",
              "      <td>195.0</td>\n",
              "      <td>3250.0</td>\n",
              "      <td>FEMALE</td>\n",
              "      <td>8.36821</td>\n",
              "      <td>-25.33302</td>\n",
              "      <td>NaN</td>\n",
              "    </tr>\n",
              "    <tr>\n",
              "      <th>3</th>\n",
              "      <td>PAL0708</td>\n",
              "      <td>4</td>\n",
              "      <td>Adelie</td>\n",
              "      <td>Anvers</td>\n",
              "      <td>Torgersen</td>\n",
              "      <td>Adult, 1 Egg Stage</td>\n",
              "      <td>N2A2</td>\n",
              "      <td>Yes</td>\n",
              "      <td>11/16/07</td>\n",
              "      <td>NaN</td>\n",
              "      <td>NaN</td>\n",
              "      <td>NaN</td>\n",
              "      <td>NaN</td>\n",
              "      <td>NaN</td>\n",
              "      <td>NaN</td>\n",
              "      <td>NaN</td>\n",
              "      <td>Adult not sampled.</td>\n",
              "    </tr>\n",
              "    <tr>\n",
              "      <th>4</th>\n",
              "      <td>PAL0708</td>\n",
              "      <td>5</td>\n",
              "      <td>Adelie</td>\n",
              "      <td>Anvers</td>\n",
              "      <td>Torgersen</td>\n",
              "      <td>Adult, 1 Egg Stage</td>\n",
              "      <td>N3A1</td>\n",
              "      <td>Yes</td>\n",
              "      <td>11/16/07</td>\n",
              "      <td>36.7</td>\n",
              "      <td>19.3</td>\n",
              "      <td>193.0</td>\n",
              "      <td>3450.0</td>\n",
              "      <td>FEMALE</td>\n",
              "      <td>8.76651</td>\n",
              "      <td>-25.32426</td>\n",
              "      <td>NaN</td>\n",
              "    </tr>\n",
              "    <tr>\n",
              "      <th>...</th>\n",
              "      <td>...</td>\n",
              "      <td>...</td>\n",
              "      <td>...</td>\n",
              "      <td>...</td>\n",
              "      <td>...</td>\n",
              "      <td>...</td>\n",
              "      <td>...</td>\n",
              "      <td>...</td>\n",
              "      <td>...</td>\n",
              "      <td>...</td>\n",
              "      <td>...</td>\n",
              "      <td>...</td>\n",
              "      <td>...</td>\n",
              "      <td>...</td>\n",
              "      <td>...</td>\n",
              "      <td>...</td>\n",
              "      <td>...</td>\n",
              "    </tr>\n",
              "    <tr>\n",
              "      <th>339</th>\n",
              "      <td>PAL0910</td>\n",
              "      <td>120</td>\n",
              "      <td>Gentoo</td>\n",
              "      <td>Anvers</td>\n",
              "      <td>Biscoe</td>\n",
              "      <td>Adult, 1 Egg Stage</td>\n",
              "      <td>N38A2</td>\n",
              "      <td>No</td>\n",
              "      <td>12/1/09</td>\n",
              "      <td>NaN</td>\n",
              "      <td>NaN</td>\n",
              "      <td>NaN</td>\n",
              "      <td>NaN</td>\n",
              "      <td>NaN</td>\n",
              "      <td>NaN</td>\n",
              "      <td>NaN</td>\n",
              "      <td>NaN</td>\n",
              "    </tr>\n",
              "    <tr>\n",
              "      <th>340</th>\n",
              "      <td>PAL0910</td>\n",
              "      <td>121</td>\n",
              "      <td>Gentoo</td>\n",
              "      <td>Anvers</td>\n",
              "      <td>Biscoe</td>\n",
              "      <td>Adult, 1 Egg Stage</td>\n",
              "      <td>N39A1</td>\n",
              "      <td>Yes</td>\n",
              "      <td>11/22/09</td>\n",
              "      <td>46.8</td>\n",
              "      <td>14.3</td>\n",
              "      <td>215.0</td>\n",
              "      <td>4850.0</td>\n",
              "      <td>FEMALE</td>\n",
              "      <td>8.41151</td>\n",
              "      <td>-26.13832</td>\n",
              "      <td>NaN</td>\n",
              "    </tr>\n",
              "    <tr>\n",
              "      <th>341</th>\n",
              "      <td>PAL0910</td>\n",
              "      <td>122</td>\n",
              "      <td>Gentoo</td>\n",
              "      <td>Anvers</td>\n",
              "      <td>Biscoe</td>\n",
              "      <td>Adult, 1 Egg Stage</td>\n",
              "      <td>N39A2</td>\n",
              "      <td>Yes</td>\n",
              "      <td>11/22/09</td>\n",
              "      <td>50.4</td>\n",
              "      <td>15.7</td>\n",
              "      <td>222.0</td>\n",
              "      <td>5750.0</td>\n",
              "      <td>MALE</td>\n",
              "      <td>8.30166</td>\n",
              "      <td>-26.04117</td>\n",
              "      <td>NaN</td>\n",
              "    </tr>\n",
              "    <tr>\n",
              "      <th>342</th>\n",
              "      <td>PAL0910</td>\n",
              "      <td>123</td>\n",
              "      <td>Gentoo</td>\n",
              "      <td>Anvers</td>\n",
              "      <td>Biscoe</td>\n",
              "      <td>Adult, 1 Egg Stage</td>\n",
              "      <td>N43A1</td>\n",
              "      <td>Yes</td>\n",
              "      <td>11/22/09</td>\n",
              "      <td>45.2</td>\n",
              "      <td>14.8</td>\n",
              "      <td>212.0</td>\n",
              "      <td>5200.0</td>\n",
              "      <td>FEMALE</td>\n",
              "      <td>8.24246</td>\n",
              "      <td>-26.11969</td>\n",
              "      <td>NaN</td>\n",
              "    </tr>\n",
              "    <tr>\n",
              "      <th>343</th>\n",
              "      <td>PAL0910</td>\n",
              "      <td>124</td>\n",
              "      <td>Gentoo</td>\n",
              "      <td>Anvers</td>\n",
              "      <td>Biscoe</td>\n",
              "      <td>Adult, 1 Egg Stage</td>\n",
              "      <td>N43A2</td>\n",
              "      <td>Yes</td>\n",
              "      <td>11/22/09</td>\n",
              "      <td>49.9</td>\n",
              "      <td>16.1</td>\n",
              "      <td>213.0</td>\n",
              "      <td>5400.0</td>\n",
              "      <td>MALE</td>\n",
              "      <td>8.36390</td>\n",
              "      <td>-26.15531</td>\n",
              "      <td>NaN</td>\n",
              "    </tr>\n",
              "  </tbody>\n",
              "</table>\n",
              "<p>344 rows × 17 columns</p>\n",
              "</div>\n",
              "      <button class=\"colab-df-convert\" onclick=\"convertToInteractive('df-a06f326f-205a-4feb-8390-ca63c6e75d46')\"\n",
              "              title=\"Convert this dataframe to an interactive table.\"\n",
              "              style=\"display:none;\">\n",
              "        \n",
              "  <svg xmlns=\"http://www.w3.org/2000/svg\" height=\"24px\"viewBox=\"0 0 24 24\"\n",
              "       width=\"24px\">\n",
              "    <path d=\"M0 0h24v24H0V0z\" fill=\"none\"/>\n",
              "    <path d=\"M18.56 5.44l.94 2.06.94-2.06 2.06-.94-2.06-.94-.94-2.06-.94 2.06-2.06.94zm-11 1L8.5 8.5l.94-2.06 2.06-.94-2.06-.94L8.5 2.5l-.94 2.06-2.06.94zm10 10l.94 2.06.94-2.06 2.06-.94-2.06-.94-.94-2.06-.94 2.06-2.06.94z\"/><path d=\"M17.41 7.96l-1.37-1.37c-.4-.4-.92-.59-1.43-.59-.52 0-1.04.2-1.43.59L10.3 9.45l-7.72 7.72c-.78.78-.78 2.05 0 2.83L4 21.41c.39.39.9.59 1.41.59.51 0 1.02-.2 1.41-.59l7.78-7.78 2.81-2.81c.8-.78.8-2.07 0-2.86zM5.41 20L4 18.59l7.72-7.72 1.47 1.35L5.41 20z\"/>\n",
              "  </svg>\n",
              "      </button>\n",
              "      \n",
              "  <style>\n",
              "    .colab-df-container {\n",
              "      display:flex;\n",
              "      flex-wrap:wrap;\n",
              "      gap: 12px;\n",
              "    }\n",
              "\n",
              "    .colab-df-convert {\n",
              "      background-color: #E8F0FE;\n",
              "      border: none;\n",
              "      border-radius: 50%;\n",
              "      cursor: pointer;\n",
              "      display: none;\n",
              "      fill: #1967D2;\n",
              "      height: 32px;\n",
              "      padding: 0 0 0 0;\n",
              "      width: 32px;\n",
              "    }\n",
              "\n",
              "    .colab-df-convert:hover {\n",
              "      background-color: #E2EBFA;\n",
              "      box-shadow: 0px 1px 2px rgba(60, 64, 67, 0.3), 0px 1px 3px 1px rgba(60, 64, 67, 0.15);\n",
              "      fill: #174EA6;\n",
              "    }\n",
              "\n",
              "    [theme=dark] .colab-df-convert {\n",
              "      background-color: #3B4455;\n",
              "      fill: #D2E3FC;\n",
              "    }\n",
              "\n",
              "    [theme=dark] .colab-df-convert:hover {\n",
              "      background-color: #434B5C;\n",
              "      box-shadow: 0px 1px 3px 1px rgba(0, 0, 0, 0.15);\n",
              "      filter: drop-shadow(0px 1px 2px rgba(0, 0, 0, 0.3));\n",
              "      fill: #FFFFFF;\n",
              "    }\n",
              "  </style>\n",
              "\n",
              "      <script>\n",
              "        const buttonEl =\n",
              "          document.querySelector('#df-a06f326f-205a-4feb-8390-ca63c6e75d46 button.colab-df-convert');\n",
              "        buttonEl.style.display =\n",
              "          google.colab.kernel.accessAllowed ? 'block' : 'none';\n",
              "\n",
              "        async function convertToInteractive(key) {\n",
              "          const element = document.querySelector('#df-a06f326f-205a-4feb-8390-ca63c6e75d46');\n",
              "          const dataTable =\n",
              "            await google.colab.kernel.invokeFunction('convertToInteractive',\n",
              "                                                     [key], {});\n",
              "          if (!dataTable) return;\n",
              "\n",
              "          const docLinkHtml = 'Like what you see? Visit the ' +\n",
              "            '<a target=\"_blank\" href=https://colab.research.google.com/notebooks/data_table.ipynb>data table notebook</a>'\n",
              "            + ' to learn more about interactive tables.';\n",
              "          element.innerHTML = '';\n",
              "          dataTable['output_type'] = 'display_data';\n",
              "          await google.colab.output.renderOutput(dataTable, element);\n",
              "          const docLink = document.createElement('div');\n",
              "          docLink.innerHTML = docLinkHtml;\n",
              "          element.appendChild(docLink);\n",
              "        }\n",
              "      </script>\n",
              "    </div>\n",
              "  </div>\n",
              "  "
            ]
          },
          "metadata": {},
          "execution_count": 4
        }
      ],
      "source": [
        "penguins"
      ]
    },
    {
      "cell_type": "code",
      "source": [
        "#inspecting the qualitative data\n",
        "print(set(penguins[\"Sex\"]))\n",
        "print(set(penguins[\"Species\"]))\n",
        "print(set(penguins[\"Island\"]))"
      ],
      "metadata": {
        "colab": {
          "base_uri": "https://localhost:8080/"
        },
        "id": "7z27Xxr39YOU",
        "outputId": "be89494e-306e-4fb3-ac0b-65d82c873d0e"
      },
      "id": "7z27Xxr39YOU",
      "execution_count": null,
      "outputs": [
        {
          "output_type": "stream",
          "name": "stdout",
          "text": [
            "{nan, 'MALE', '.', 'FEMALE'}\n",
            "{'Chinstrap', 'Adelie', 'Gentoo'}\n",
            "{'Torgersen', 'Dream', 'Biscoe'}\n"
          ]
        }
      ]
    },
    {
      "cell_type": "markdown",
      "source": [
        "From this we can see that we need to remove nan values and the line with the value '.' for sex. However, we will do this after splitting our data to avoid error"
      ],
      "metadata": {
        "id": "kxRSf07x9fen"
      },
      "id": "kxRSf07x9fen"
    },
    {
      "cell_type": "code",
      "execution_count": null,
      "id": "29aa260f",
      "metadata": {
        "id": "29aa260f",
        "outputId": "d4f857b2-f609-4c2d-9048-7e688175c75b",
        "colab": {
          "base_uri": "https://localhost:8080/"
        }
      },
      "outputs": [
        {
          "output_type": "execute_result",
          "data": {
            "text/plain": [
              "    Species     Island  Culmen Length (mm)  Culmen Depth (mm)  \\\n",
              "0    Adelie  Torgersen                39.1               18.7   \n",
              "1    Adelie  Torgersen                39.5               17.4   \n",
              "2    Adelie  Torgersen                40.3               18.0   \n",
              "3    Adelie  Torgersen                 NaN                NaN   \n",
              "4    Adelie  Torgersen                36.7               19.3   \n",
              "..      ...        ...                 ...                ...   \n",
              "339  Gentoo     Biscoe                 NaN                NaN   \n",
              "340  Gentoo     Biscoe                46.8               14.3   \n",
              "341  Gentoo     Biscoe                50.4               15.7   \n",
              "342  Gentoo     Biscoe                45.2               14.8   \n",
              "343  Gentoo     Biscoe                49.9               16.1   \n",
              "\n",
              "     Flipper Length (mm)  Body Mass (g)     Sex  Delta 15 N (o/oo)  \\\n",
              "0                  181.0         3750.0    MALE                NaN   \n",
              "1                  186.0         3800.0  FEMALE            8.94956   \n",
              "2                  195.0         3250.0  FEMALE            8.36821   \n",
              "3                    NaN            NaN     NaN                NaN   \n",
              "4                  193.0         3450.0  FEMALE            8.76651   \n",
              "..                   ...            ...     ...                ...   \n",
              "339                  NaN            NaN     NaN                NaN   \n",
              "340                215.0         4850.0  FEMALE            8.41151   \n",
              "341                222.0         5750.0    MALE            8.30166   \n",
              "342                212.0         5200.0  FEMALE            8.24246   \n",
              "343                213.0         5400.0    MALE            8.36390   \n",
              "\n",
              "     Delta 13 C (o/oo)  \n",
              "0                  NaN  \n",
              "1            -24.69454  \n",
              "2            -25.33302  \n",
              "3                  NaN  \n",
              "4            -25.32426  \n",
              "..                 ...  \n",
              "339                NaN  \n",
              "340          -26.13832  \n",
              "341          -26.04117  \n",
              "342          -26.11969  \n",
              "343          -26.15531  \n",
              "\n",
              "[344 rows x 9 columns]"
            ],
            "text/html": [
              "\n",
              "  <div id=\"df-b7dbde8a-44e7-40ba-999c-e5d6dd5da3ee\">\n",
              "    <div class=\"colab-df-container\">\n",
              "      <div>\n",
              "<style scoped>\n",
              "    .dataframe tbody tr th:only-of-type {\n",
              "        vertical-align: middle;\n",
              "    }\n",
              "\n",
              "    .dataframe tbody tr th {\n",
              "        vertical-align: top;\n",
              "    }\n",
              "\n",
              "    .dataframe thead th {\n",
              "        text-align: right;\n",
              "    }\n",
              "</style>\n",
              "<table border=\"1\" class=\"dataframe\">\n",
              "  <thead>\n",
              "    <tr style=\"text-align: right;\">\n",
              "      <th></th>\n",
              "      <th>Species</th>\n",
              "      <th>Island</th>\n",
              "      <th>Culmen Length (mm)</th>\n",
              "      <th>Culmen Depth (mm)</th>\n",
              "      <th>Flipper Length (mm)</th>\n",
              "      <th>Body Mass (g)</th>\n",
              "      <th>Sex</th>\n",
              "      <th>Delta 15 N (o/oo)</th>\n",
              "      <th>Delta 13 C (o/oo)</th>\n",
              "    </tr>\n",
              "  </thead>\n",
              "  <tbody>\n",
              "    <tr>\n",
              "      <th>0</th>\n",
              "      <td>Adelie</td>\n",
              "      <td>Torgersen</td>\n",
              "      <td>39.1</td>\n",
              "      <td>18.7</td>\n",
              "      <td>181.0</td>\n",
              "      <td>3750.0</td>\n",
              "      <td>MALE</td>\n",
              "      <td>NaN</td>\n",
              "      <td>NaN</td>\n",
              "    </tr>\n",
              "    <tr>\n",
              "      <th>1</th>\n",
              "      <td>Adelie</td>\n",
              "      <td>Torgersen</td>\n",
              "      <td>39.5</td>\n",
              "      <td>17.4</td>\n",
              "      <td>186.0</td>\n",
              "      <td>3800.0</td>\n",
              "      <td>FEMALE</td>\n",
              "      <td>8.94956</td>\n",
              "      <td>-24.69454</td>\n",
              "    </tr>\n",
              "    <tr>\n",
              "      <th>2</th>\n",
              "      <td>Adelie</td>\n",
              "      <td>Torgersen</td>\n",
              "      <td>40.3</td>\n",
              "      <td>18.0</td>\n",
              "      <td>195.0</td>\n",
              "      <td>3250.0</td>\n",
              "      <td>FEMALE</td>\n",
              "      <td>8.36821</td>\n",
              "      <td>-25.33302</td>\n",
              "    </tr>\n",
              "    <tr>\n",
              "      <th>3</th>\n",
              "      <td>Adelie</td>\n",
              "      <td>Torgersen</td>\n",
              "      <td>NaN</td>\n",
              "      <td>NaN</td>\n",
              "      <td>NaN</td>\n",
              "      <td>NaN</td>\n",
              "      <td>NaN</td>\n",
              "      <td>NaN</td>\n",
              "      <td>NaN</td>\n",
              "    </tr>\n",
              "    <tr>\n",
              "      <th>4</th>\n",
              "      <td>Adelie</td>\n",
              "      <td>Torgersen</td>\n",
              "      <td>36.7</td>\n",
              "      <td>19.3</td>\n",
              "      <td>193.0</td>\n",
              "      <td>3450.0</td>\n",
              "      <td>FEMALE</td>\n",
              "      <td>8.76651</td>\n",
              "      <td>-25.32426</td>\n",
              "    </tr>\n",
              "    <tr>\n",
              "      <th>...</th>\n",
              "      <td>...</td>\n",
              "      <td>...</td>\n",
              "      <td>...</td>\n",
              "      <td>...</td>\n",
              "      <td>...</td>\n",
              "      <td>...</td>\n",
              "      <td>...</td>\n",
              "      <td>...</td>\n",
              "      <td>...</td>\n",
              "    </tr>\n",
              "    <tr>\n",
              "      <th>339</th>\n",
              "      <td>Gentoo</td>\n",
              "      <td>Biscoe</td>\n",
              "      <td>NaN</td>\n",
              "      <td>NaN</td>\n",
              "      <td>NaN</td>\n",
              "      <td>NaN</td>\n",
              "      <td>NaN</td>\n",
              "      <td>NaN</td>\n",
              "      <td>NaN</td>\n",
              "    </tr>\n",
              "    <tr>\n",
              "      <th>340</th>\n",
              "      <td>Gentoo</td>\n",
              "      <td>Biscoe</td>\n",
              "      <td>46.8</td>\n",
              "      <td>14.3</td>\n",
              "      <td>215.0</td>\n",
              "      <td>4850.0</td>\n",
              "      <td>FEMALE</td>\n",
              "      <td>8.41151</td>\n",
              "      <td>-26.13832</td>\n",
              "    </tr>\n",
              "    <tr>\n",
              "      <th>341</th>\n",
              "      <td>Gentoo</td>\n",
              "      <td>Biscoe</td>\n",
              "      <td>50.4</td>\n",
              "      <td>15.7</td>\n",
              "      <td>222.0</td>\n",
              "      <td>5750.0</td>\n",
              "      <td>MALE</td>\n",
              "      <td>8.30166</td>\n",
              "      <td>-26.04117</td>\n",
              "    </tr>\n",
              "    <tr>\n",
              "      <th>342</th>\n",
              "      <td>Gentoo</td>\n",
              "      <td>Biscoe</td>\n",
              "      <td>45.2</td>\n",
              "      <td>14.8</td>\n",
              "      <td>212.0</td>\n",
              "      <td>5200.0</td>\n",
              "      <td>FEMALE</td>\n",
              "      <td>8.24246</td>\n",
              "      <td>-26.11969</td>\n",
              "    </tr>\n",
              "    <tr>\n",
              "      <th>343</th>\n",
              "      <td>Gentoo</td>\n",
              "      <td>Biscoe</td>\n",
              "      <td>49.9</td>\n",
              "      <td>16.1</td>\n",
              "      <td>213.0</td>\n",
              "      <td>5400.0</td>\n",
              "      <td>MALE</td>\n",
              "      <td>8.36390</td>\n",
              "      <td>-26.15531</td>\n",
              "    </tr>\n",
              "  </tbody>\n",
              "</table>\n",
              "<p>344 rows × 9 columns</p>\n",
              "</div>\n",
              "      <button class=\"colab-df-convert\" onclick=\"convertToInteractive('df-b7dbde8a-44e7-40ba-999c-e5d6dd5da3ee')\"\n",
              "              title=\"Convert this dataframe to an interactive table.\"\n",
              "              style=\"display:none;\">\n",
              "        \n",
              "  <svg xmlns=\"http://www.w3.org/2000/svg\" height=\"24px\"viewBox=\"0 0 24 24\"\n",
              "       width=\"24px\">\n",
              "    <path d=\"M0 0h24v24H0V0z\" fill=\"none\"/>\n",
              "    <path d=\"M18.56 5.44l.94 2.06.94-2.06 2.06-.94-2.06-.94-.94-2.06-.94 2.06-2.06.94zm-11 1L8.5 8.5l.94-2.06 2.06-.94-2.06-.94L8.5 2.5l-.94 2.06-2.06.94zm10 10l.94 2.06.94-2.06 2.06-.94-2.06-.94-.94-2.06-.94 2.06-2.06.94z\"/><path d=\"M17.41 7.96l-1.37-1.37c-.4-.4-.92-.59-1.43-.59-.52 0-1.04.2-1.43.59L10.3 9.45l-7.72 7.72c-.78.78-.78 2.05 0 2.83L4 21.41c.39.39.9.59 1.41.59.51 0 1.02-.2 1.41-.59l7.78-7.78 2.81-2.81c.8-.78.8-2.07 0-2.86zM5.41 20L4 18.59l7.72-7.72 1.47 1.35L5.41 20z\"/>\n",
              "  </svg>\n",
              "      </button>\n",
              "      \n",
              "  <style>\n",
              "    .colab-df-container {\n",
              "      display:flex;\n",
              "      flex-wrap:wrap;\n",
              "      gap: 12px;\n",
              "    }\n",
              "\n",
              "    .colab-df-convert {\n",
              "      background-color: #E8F0FE;\n",
              "      border: none;\n",
              "      border-radius: 50%;\n",
              "      cursor: pointer;\n",
              "      display: none;\n",
              "      fill: #1967D2;\n",
              "      height: 32px;\n",
              "      padding: 0 0 0 0;\n",
              "      width: 32px;\n",
              "    }\n",
              "\n",
              "    .colab-df-convert:hover {\n",
              "      background-color: #E2EBFA;\n",
              "      box-shadow: 0px 1px 2px rgba(60, 64, 67, 0.3), 0px 1px 3px 1px rgba(60, 64, 67, 0.15);\n",
              "      fill: #174EA6;\n",
              "    }\n",
              "\n",
              "    [theme=dark] .colab-df-convert {\n",
              "      background-color: #3B4455;\n",
              "      fill: #D2E3FC;\n",
              "    }\n",
              "\n",
              "    [theme=dark] .colab-df-convert:hover {\n",
              "      background-color: #434B5C;\n",
              "      box-shadow: 0px 1px 3px 1px rgba(0, 0, 0, 0.15);\n",
              "      filter: drop-shadow(0px 1px 2px rgba(0, 0, 0, 0.3));\n",
              "      fill: #FFFFFF;\n",
              "    }\n",
              "  </style>\n",
              "\n",
              "      <script>\n",
              "        const buttonEl =\n",
              "          document.querySelector('#df-b7dbde8a-44e7-40ba-999c-e5d6dd5da3ee button.colab-df-convert');\n",
              "        buttonEl.style.display =\n",
              "          google.colab.kernel.accessAllowed ? 'block' : 'none';\n",
              "\n",
              "        async function convertToInteractive(key) {\n",
              "          const element = document.querySelector('#df-b7dbde8a-44e7-40ba-999c-e5d6dd5da3ee');\n",
              "          const dataTable =\n",
              "            await google.colab.kernel.invokeFunction('convertToInteractive',\n",
              "                                                     [key], {});\n",
              "          if (!dataTable) return;\n",
              "\n",
              "          const docLinkHtml = 'Like what you see? Visit the ' +\n",
              "            '<a target=\"_blank\" href=https://colab.research.google.com/notebooks/data_table.ipynb>data table notebook</a>'\n",
              "            + ' to learn more about interactive tables.';\n",
              "          element.innerHTML = '';\n",
              "          dataTable['output_type'] = 'display_data';\n",
              "          await google.colab.output.renderOutput(dataTable, element);\n",
              "          const docLink = document.createElement('div');\n",
              "          docLink.innerHTML = docLinkHtml;\n",
              "          element.appendChild(docLink);\n",
              "        }\n",
              "      </script>\n",
              "    </div>\n",
              "  </div>\n",
              "  "
            ]
          },
          "metadata": {},
          "execution_count": 6
        }
      ],
      "source": [
        "penguins = penguins.drop(['Stage', 'Comments', 'Individual ID', 'Clutch Completion', 'studyName', 'Date Egg', 'Region', 'Sample Number'], axis = 1)\n",
        "penguins"
      ]
    },
    {
      "cell_type": "code",
      "execution_count": null,
      "id": "04d37f21",
      "metadata": {
        "id": "04d37f21"
      },
      "outputs": [],
      "source": [
        "np.random.seed(10000000)"
      ]
    },
    {
      "cell_type": "code",
      "execution_count": null,
      "id": "a885e1d3",
      "metadata": {
        "id": "a885e1d3"
      },
      "outputs": [],
      "source": [
        "train, test = train_test_split(penguins, test_size = 0.2)"
      ]
    },
    {
      "cell_type": "code",
      "source": [
        "train"
      ],
      "metadata": {
        "colab": {
          "base_uri": "https://localhost:8080/"
        },
        "id": "XPNiw0Zn9zPo",
        "outputId": "7da36b68-9463-4ab5-d6f3-33f77cf1e47c"
      },
      "id": "XPNiw0Zn9zPo",
      "execution_count": null,
      "outputs": [
        {
          "output_type": "execute_result",
          "data": {
            "text/plain": [
              "       Species     Island  Culmen Length (mm)  Culmen Depth (mm)  \\\n",
              "160  Chinstrap      Dream                46.0               18.9   \n",
              "34      Adelie      Dream                36.4               17.0   \n",
              "128     Adelie  Torgersen                39.0               17.1   \n",
              "107     Adelie     Biscoe                38.2               20.0   \n",
              "187  Chinstrap      Dream                47.5               16.8   \n",
              "..         ...        ...                 ...                ...   \n",
              "316     Gentoo     Biscoe                49.4               15.8   \n",
              "218  Chinstrap      Dream                50.8               19.0   \n",
              "196  Chinstrap      Dream                50.9               17.9   \n",
              "100     Adelie     Biscoe                35.0               17.9   \n",
              "67      Adelie     Biscoe                41.1               19.1   \n",
              "\n",
              "     Flipper Length (mm)  Body Mass (g)     Sex  Delta 15 N (o/oo)  \\\n",
              "160                195.0         4150.0  FEMALE            8.47173   \n",
              "34                 195.0         3325.0  FEMALE            9.17847   \n",
              "128                191.0         3050.0  FEMALE            9.19031   \n",
              "107                190.0         3900.0    MALE            9.59245   \n",
              "187                199.0         3900.0  FEMALE            9.07825   \n",
              "..                   ...            ...     ...                ...   \n",
              "316                216.0         4925.0    MALE            8.03624   \n",
              "218                210.0         4100.0    MALE            9.98044   \n",
              "196                196.0         3675.0  FEMALE            9.43684   \n",
              "100                192.0         3725.0  FEMALE            8.84451   \n",
              "67                 188.0         4100.0    MALE            8.71078   \n",
              "\n",
              "     Delta 13 C (o/oo)  \n",
              "160          -24.29229  \n",
              "34           -25.23061  \n",
              "128          -25.73722  \n",
              "107          -25.70711  \n",
              "187          -25.14550  \n",
              "..                 ...  \n",
              "316          -26.06594  \n",
              "218          -24.68741  \n",
              "196          -24.16566  \n",
              "100          -26.28055  \n",
              "67           -25.81012  \n",
              "\n",
              "[275 rows x 9 columns]"
            ],
            "text/html": [
              "\n",
              "  <div id=\"df-73cb6b21-cac9-4d38-a409-45c24dba4b42\">\n",
              "    <div class=\"colab-df-container\">\n",
              "      <div>\n",
              "<style scoped>\n",
              "    .dataframe tbody tr th:only-of-type {\n",
              "        vertical-align: middle;\n",
              "    }\n",
              "\n",
              "    .dataframe tbody tr th {\n",
              "        vertical-align: top;\n",
              "    }\n",
              "\n",
              "    .dataframe thead th {\n",
              "        text-align: right;\n",
              "    }\n",
              "</style>\n",
              "<table border=\"1\" class=\"dataframe\">\n",
              "  <thead>\n",
              "    <tr style=\"text-align: right;\">\n",
              "      <th></th>\n",
              "      <th>Species</th>\n",
              "      <th>Island</th>\n",
              "      <th>Culmen Length (mm)</th>\n",
              "      <th>Culmen Depth (mm)</th>\n",
              "      <th>Flipper Length (mm)</th>\n",
              "      <th>Body Mass (g)</th>\n",
              "      <th>Sex</th>\n",
              "      <th>Delta 15 N (o/oo)</th>\n",
              "      <th>Delta 13 C (o/oo)</th>\n",
              "    </tr>\n",
              "  </thead>\n",
              "  <tbody>\n",
              "    <tr>\n",
              "      <th>160</th>\n",
              "      <td>Chinstrap</td>\n",
              "      <td>Dream</td>\n",
              "      <td>46.0</td>\n",
              "      <td>18.9</td>\n",
              "      <td>195.0</td>\n",
              "      <td>4150.0</td>\n",
              "      <td>FEMALE</td>\n",
              "      <td>8.47173</td>\n",
              "      <td>-24.29229</td>\n",
              "    </tr>\n",
              "    <tr>\n",
              "      <th>34</th>\n",
              "      <td>Adelie</td>\n",
              "      <td>Dream</td>\n",
              "      <td>36.4</td>\n",
              "      <td>17.0</td>\n",
              "      <td>195.0</td>\n",
              "      <td>3325.0</td>\n",
              "      <td>FEMALE</td>\n",
              "      <td>9.17847</td>\n",
              "      <td>-25.23061</td>\n",
              "    </tr>\n",
              "    <tr>\n",
              "      <th>128</th>\n",
              "      <td>Adelie</td>\n",
              "      <td>Torgersen</td>\n",
              "      <td>39.0</td>\n",
              "      <td>17.1</td>\n",
              "      <td>191.0</td>\n",
              "      <td>3050.0</td>\n",
              "      <td>FEMALE</td>\n",
              "      <td>9.19031</td>\n",
              "      <td>-25.73722</td>\n",
              "    </tr>\n",
              "    <tr>\n",
              "      <th>107</th>\n",
              "      <td>Adelie</td>\n",
              "      <td>Biscoe</td>\n",
              "      <td>38.2</td>\n",
              "      <td>20.0</td>\n",
              "      <td>190.0</td>\n",
              "      <td>3900.0</td>\n",
              "      <td>MALE</td>\n",
              "      <td>9.59245</td>\n",
              "      <td>-25.70711</td>\n",
              "    </tr>\n",
              "    <tr>\n",
              "      <th>187</th>\n",
              "      <td>Chinstrap</td>\n",
              "      <td>Dream</td>\n",
              "      <td>47.5</td>\n",
              "      <td>16.8</td>\n",
              "      <td>199.0</td>\n",
              "      <td>3900.0</td>\n",
              "      <td>FEMALE</td>\n",
              "      <td>9.07825</td>\n",
              "      <td>-25.14550</td>\n",
              "    </tr>\n",
              "    <tr>\n",
              "      <th>...</th>\n",
              "      <td>...</td>\n",
              "      <td>...</td>\n",
              "      <td>...</td>\n",
              "      <td>...</td>\n",
              "      <td>...</td>\n",
              "      <td>...</td>\n",
              "      <td>...</td>\n",
              "      <td>...</td>\n",
              "      <td>...</td>\n",
              "    </tr>\n",
              "    <tr>\n",
              "      <th>316</th>\n",
              "      <td>Gentoo</td>\n",
              "      <td>Biscoe</td>\n",
              "      <td>49.4</td>\n",
              "      <td>15.8</td>\n",
              "      <td>216.0</td>\n",
              "      <td>4925.0</td>\n",
              "      <td>MALE</td>\n",
              "      <td>8.03624</td>\n",
              "      <td>-26.06594</td>\n",
              "    </tr>\n",
              "    <tr>\n",
              "      <th>218</th>\n",
              "      <td>Chinstrap</td>\n",
              "      <td>Dream</td>\n",
              "      <td>50.8</td>\n",
              "      <td>19.0</td>\n",
              "      <td>210.0</td>\n",
              "      <td>4100.0</td>\n",
              "      <td>MALE</td>\n",
              "      <td>9.98044</td>\n",
              "      <td>-24.68741</td>\n",
              "    </tr>\n",
              "    <tr>\n",
              "      <th>196</th>\n",
              "      <td>Chinstrap</td>\n",
              "      <td>Dream</td>\n",
              "      <td>50.9</td>\n",
              "      <td>17.9</td>\n",
              "      <td>196.0</td>\n",
              "      <td>3675.0</td>\n",
              "      <td>FEMALE</td>\n",
              "      <td>9.43684</td>\n",
              "      <td>-24.16566</td>\n",
              "    </tr>\n",
              "    <tr>\n",
              "      <th>100</th>\n",
              "      <td>Adelie</td>\n",
              "      <td>Biscoe</td>\n",
              "      <td>35.0</td>\n",
              "      <td>17.9</td>\n",
              "      <td>192.0</td>\n",
              "      <td>3725.0</td>\n",
              "      <td>FEMALE</td>\n",
              "      <td>8.84451</td>\n",
              "      <td>-26.28055</td>\n",
              "    </tr>\n",
              "    <tr>\n",
              "      <th>67</th>\n",
              "      <td>Adelie</td>\n",
              "      <td>Biscoe</td>\n",
              "      <td>41.1</td>\n",
              "      <td>19.1</td>\n",
              "      <td>188.0</td>\n",
              "      <td>4100.0</td>\n",
              "      <td>MALE</td>\n",
              "      <td>8.71078</td>\n",
              "      <td>-25.81012</td>\n",
              "    </tr>\n",
              "  </tbody>\n",
              "</table>\n",
              "<p>275 rows × 9 columns</p>\n",
              "</div>\n",
              "      <button class=\"colab-df-convert\" onclick=\"convertToInteractive('df-73cb6b21-cac9-4d38-a409-45c24dba4b42')\"\n",
              "              title=\"Convert this dataframe to an interactive table.\"\n",
              "              style=\"display:none;\">\n",
              "        \n",
              "  <svg xmlns=\"http://www.w3.org/2000/svg\" height=\"24px\"viewBox=\"0 0 24 24\"\n",
              "       width=\"24px\">\n",
              "    <path d=\"M0 0h24v24H0V0z\" fill=\"none\"/>\n",
              "    <path d=\"M18.56 5.44l.94 2.06.94-2.06 2.06-.94-2.06-.94-.94-2.06-.94 2.06-2.06.94zm-11 1L8.5 8.5l.94-2.06 2.06-.94-2.06-.94L8.5 2.5l-.94 2.06-2.06.94zm10 10l.94 2.06.94-2.06 2.06-.94-2.06-.94-.94-2.06-.94 2.06-2.06.94z\"/><path d=\"M17.41 7.96l-1.37-1.37c-.4-.4-.92-.59-1.43-.59-.52 0-1.04.2-1.43.59L10.3 9.45l-7.72 7.72c-.78.78-.78 2.05 0 2.83L4 21.41c.39.39.9.59 1.41.59.51 0 1.02-.2 1.41-.59l7.78-7.78 2.81-2.81c.8-.78.8-2.07 0-2.86zM5.41 20L4 18.59l7.72-7.72 1.47 1.35L5.41 20z\"/>\n",
              "  </svg>\n",
              "      </button>\n",
              "      \n",
              "  <style>\n",
              "    .colab-df-container {\n",
              "      display:flex;\n",
              "      flex-wrap:wrap;\n",
              "      gap: 12px;\n",
              "    }\n",
              "\n",
              "    .colab-df-convert {\n",
              "      background-color: #E8F0FE;\n",
              "      border: none;\n",
              "      border-radius: 50%;\n",
              "      cursor: pointer;\n",
              "      display: none;\n",
              "      fill: #1967D2;\n",
              "      height: 32px;\n",
              "      padding: 0 0 0 0;\n",
              "      width: 32px;\n",
              "    }\n",
              "\n",
              "    .colab-df-convert:hover {\n",
              "      background-color: #E2EBFA;\n",
              "      box-shadow: 0px 1px 2px rgba(60, 64, 67, 0.3), 0px 1px 3px 1px rgba(60, 64, 67, 0.15);\n",
              "      fill: #174EA6;\n",
              "    }\n",
              "\n",
              "    [theme=dark] .colab-df-convert {\n",
              "      background-color: #3B4455;\n",
              "      fill: #D2E3FC;\n",
              "    }\n",
              "\n",
              "    [theme=dark] .colab-df-convert:hover {\n",
              "      background-color: #434B5C;\n",
              "      box-shadow: 0px 1px 3px 1px rgba(0, 0, 0, 0.15);\n",
              "      filter: drop-shadow(0px 1px 2px rgba(0, 0, 0, 0.3));\n",
              "      fill: #FFFFFF;\n",
              "    }\n",
              "  </style>\n",
              "\n",
              "      <script>\n",
              "        const buttonEl =\n",
              "          document.querySelector('#df-73cb6b21-cac9-4d38-a409-45c24dba4b42 button.colab-df-convert');\n",
              "        buttonEl.style.display =\n",
              "          google.colab.kernel.accessAllowed ? 'block' : 'none';\n",
              "\n",
              "        async function convertToInteractive(key) {\n",
              "          const element = document.querySelector('#df-73cb6b21-cac9-4d38-a409-45c24dba4b42');\n",
              "          const dataTable =\n",
              "            await google.colab.kernel.invokeFunction('convertToInteractive',\n",
              "                                                     [key], {});\n",
              "          if (!dataTable) return;\n",
              "\n",
              "          const docLinkHtml = 'Like what you see? Visit the ' +\n",
              "            '<a target=\"_blank\" href=https://colab.research.google.com/notebooks/data_table.ipynb>data table notebook</a>'\n",
              "            + ' to learn more about interactive tables.';\n",
              "          element.innerHTML = '';\n",
              "          dataTable['output_type'] = 'display_data';\n",
              "          await google.colab.output.renderOutput(dataTable, element);\n",
              "          const docLink = document.createElement('div');\n",
              "          docLink.innerHTML = docLinkHtml;\n",
              "          element.appendChild(docLink);\n",
              "        }\n",
              "      </script>\n",
              "    </div>\n",
              "  </div>\n",
              "  "
            ]
          },
          "metadata": {},
          "execution_count": 9
        }
      ]
    },
    {
      "cell_type": "code",
      "source": [
        "test"
      ],
      "metadata": {
        "colab": {
          "base_uri": "https://localhost:8080/"
        },
        "id": "sfL1J9aK91YI",
        "outputId": "9d4015e7-f582-448d-d6eb-16ce3eea1ae7"
      },
      "id": "sfL1J9aK91YI",
      "execution_count": null,
      "outputs": [
        {
          "output_type": "execute_result",
          "data": {
            "text/plain": [
              "       Species  Island  Culmen Length (mm)  Culmen Depth (mm)  \\\n",
              "270     Gentoo  Biscoe                46.6               14.2   \n",
              "55      Adelie  Biscoe                41.4               18.6   \n",
              "309     Gentoo  Biscoe                52.1               17.0   \n",
              "282     Gentoo  Biscoe                45.7               13.9   \n",
              "109     Adelie  Biscoe                43.2               19.0   \n",
              "..         ...     ...                 ...                ...   \n",
              "279     Gentoo  Biscoe                50.4               15.3   \n",
              "192  Chinstrap   Dream                49.0               19.5   \n",
              "329     Gentoo  Biscoe                48.1               15.1   \n",
              "326     Gentoo  Biscoe                41.7               14.7   \n",
              "302     Gentoo  Biscoe                47.4               14.6   \n",
              "\n",
              "     Flipper Length (mm)  Body Mass (g)     Sex  Delta 15 N (o/oo)  \\\n",
              "270                210.0         4850.0  FEMALE            8.38289   \n",
              "55                 191.0         3700.0    MALE            8.35396   \n",
              "309                230.0         5550.0    MALE            8.27595   \n",
              "282                214.0         4400.0  FEMALE            8.62870   \n",
              "109                197.0         4775.0    MALE            9.31735   \n",
              "..                   ...            ...     ...                ...   \n",
              "279                224.0         5550.0    MALE            8.74647   \n",
              "192                210.0         3950.0    MALE            9.53262   \n",
              "329                209.0         5500.0    MALE            8.45738   \n",
              "326                210.0         4700.0  FEMALE            8.12311   \n",
              "302                212.0         4725.0  FEMALE            8.19101   \n",
              "\n",
              "     Delta 13 C (o/oo)  \n",
              "270          -26.86352  \n",
              "55           -26.27853  \n",
              "309          -26.11657  \n",
              "282          -26.60484  \n",
              "109          -25.45171  \n",
              "..                 ...  \n",
              "279          -26.79846  \n",
              "192          -24.66867  \n",
              "329          -26.22664  \n",
              "326          -26.44815  \n",
              "302          -26.24369  \n",
              "\n",
              "[69 rows x 9 columns]"
            ],
            "text/html": [
              "\n",
              "  <div id=\"df-17073842-b3f3-4ceb-9451-fab733a9020c\">\n",
              "    <div class=\"colab-df-container\">\n",
              "      <div>\n",
              "<style scoped>\n",
              "    .dataframe tbody tr th:only-of-type {\n",
              "        vertical-align: middle;\n",
              "    }\n",
              "\n",
              "    .dataframe tbody tr th {\n",
              "        vertical-align: top;\n",
              "    }\n",
              "\n",
              "    .dataframe thead th {\n",
              "        text-align: right;\n",
              "    }\n",
              "</style>\n",
              "<table border=\"1\" class=\"dataframe\">\n",
              "  <thead>\n",
              "    <tr style=\"text-align: right;\">\n",
              "      <th></th>\n",
              "      <th>Species</th>\n",
              "      <th>Island</th>\n",
              "      <th>Culmen Length (mm)</th>\n",
              "      <th>Culmen Depth (mm)</th>\n",
              "      <th>Flipper Length (mm)</th>\n",
              "      <th>Body Mass (g)</th>\n",
              "      <th>Sex</th>\n",
              "      <th>Delta 15 N (o/oo)</th>\n",
              "      <th>Delta 13 C (o/oo)</th>\n",
              "    </tr>\n",
              "  </thead>\n",
              "  <tbody>\n",
              "    <tr>\n",
              "      <th>270</th>\n",
              "      <td>Gentoo</td>\n",
              "      <td>Biscoe</td>\n",
              "      <td>46.6</td>\n",
              "      <td>14.2</td>\n",
              "      <td>210.0</td>\n",
              "      <td>4850.0</td>\n",
              "      <td>FEMALE</td>\n",
              "      <td>8.38289</td>\n",
              "      <td>-26.86352</td>\n",
              "    </tr>\n",
              "    <tr>\n",
              "      <th>55</th>\n",
              "      <td>Adelie</td>\n",
              "      <td>Biscoe</td>\n",
              "      <td>41.4</td>\n",
              "      <td>18.6</td>\n",
              "      <td>191.0</td>\n",
              "      <td>3700.0</td>\n",
              "      <td>MALE</td>\n",
              "      <td>8.35396</td>\n",
              "      <td>-26.27853</td>\n",
              "    </tr>\n",
              "    <tr>\n",
              "      <th>309</th>\n",
              "      <td>Gentoo</td>\n",
              "      <td>Biscoe</td>\n",
              "      <td>52.1</td>\n",
              "      <td>17.0</td>\n",
              "      <td>230.0</td>\n",
              "      <td>5550.0</td>\n",
              "      <td>MALE</td>\n",
              "      <td>8.27595</td>\n",
              "      <td>-26.11657</td>\n",
              "    </tr>\n",
              "    <tr>\n",
              "      <th>282</th>\n",
              "      <td>Gentoo</td>\n",
              "      <td>Biscoe</td>\n",
              "      <td>45.7</td>\n",
              "      <td>13.9</td>\n",
              "      <td>214.0</td>\n",
              "      <td>4400.0</td>\n",
              "      <td>FEMALE</td>\n",
              "      <td>8.62870</td>\n",
              "      <td>-26.60484</td>\n",
              "    </tr>\n",
              "    <tr>\n",
              "      <th>109</th>\n",
              "      <td>Adelie</td>\n",
              "      <td>Biscoe</td>\n",
              "      <td>43.2</td>\n",
              "      <td>19.0</td>\n",
              "      <td>197.0</td>\n",
              "      <td>4775.0</td>\n",
              "      <td>MALE</td>\n",
              "      <td>9.31735</td>\n",
              "      <td>-25.45171</td>\n",
              "    </tr>\n",
              "    <tr>\n",
              "      <th>...</th>\n",
              "      <td>...</td>\n",
              "      <td>...</td>\n",
              "      <td>...</td>\n",
              "      <td>...</td>\n",
              "      <td>...</td>\n",
              "      <td>...</td>\n",
              "      <td>...</td>\n",
              "      <td>...</td>\n",
              "      <td>...</td>\n",
              "    </tr>\n",
              "    <tr>\n",
              "      <th>279</th>\n",
              "      <td>Gentoo</td>\n",
              "      <td>Biscoe</td>\n",
              "      <td>50.4</td>\n",
              "      <td>15.3</td>\n",
              "      <td>224.0</td>\n",
              "      <td>5550.0</td>\n",
              "      <td>MALE</td>\n",
              "      <td>8.74647</td>\n",
              "      <td>-26.79846</td>\n",
              "    </tr>\n",
              "    <tr>\n",
              "      <th>192</th>\n",
              "      <td>Chinstrap</td>\n",
              "      <td>Dream</td>\n",
              "      <td>49.0</td>\n",
              "      <td>19.5</td>\n",
              "      <td>210.0</td>\n",
              "      <td>3950.0</td>\n",
              "      <td>MALE</td>\n",
              "      <td>9.53262</td>\n",
              "      <td>-24.66867</td>\n",
              "    </tr>\n",
              "    <tr>\n",
              "      <th>329</th>\n",
              "      <td>Gentoo</td>\n",
              "      <td>Biscoe</td>\n",
              "      <td>48.1</td>\n",
              "      <td>15.1</td>\n",
              "      <td>209.0</td>\n",
              "      <td>5500.0</td>\n",
              "      <td>MALE</td>\n",
              "      <td>8.45738</td>\n",
              "      <td>-26.22664</td>\n",
              "    </tr>\n",
              "    <tr>\n",
              "      <th>326</th>\n",
              "      <td>Gentoo</td>\n",
              "      <td>Biscoe</td>\n",
              "      <td>41.7</td>\n",
              "      <td>14.7</td>\n",
              "      <td>210.0</td>\n",
              "      <td>4700.0</td>\n",
              "      <td>FEMALE</td>\n",
              "      <td>8.12311</td>\n",
              "      <td>-26.44815</td>\n",
              "    </tr>\n",
              "    <tr>\n",
              "      <th>302</th>\n",
              "      <td>Gentoo</td>\n",
              "      <td>Biscoe</td>\n",
              "      <td>47.4</td>\n",
              "      <td>14.6</td>\n",
              "      <td>212.0</td>\n",
              "      <td>4725.0</td>\n",
              "      <td>FEMALE</td>\n",
              "      <td>8.19101</td>\n",
              "      <td>-26.24369</td>\n",
              "    </tr>\n",
              "  </tbody>\n",
              "</table>\n",
              "<p>69 rows × 9 columns</p>\n",
              "</div>\n",
              "      <button class=\"colab-df-convert\" onclick=\"convertToInteractive('df-17073842-b3f3-4ceb-9451-fab733a9020c')\"\n",
              "              title=\"Convert this dataframe to an interactive table.\"\n",
              "              style=\"display:none;\">\n",
              "        \n",
              "  <svg xmlns=\"http://www.w3.org/2000/svg\" height=\"24px\"viewBox=\"0 0 24 24\"\n",
              "       width=\"24px\">\n",
              "    <path d=\"M0 0h24v24H0V0z\" fill=\"none\"/>\n",
              "    <path d=\"M18.56 5.44l.94 2.06.94-2.06 2.06-.94-2.06-.94-.94-2.06-.94 2.06-2.06.94zm-11 1L8.5 8.5l.94-2.06 2.06-.94-2.06-.94L8.5 2.5l-.94 2.06-2.06.94zm10 10l.94 2.06.94-2.06 2.06-.94-2.06-.94-.94-2.06-.94 2.06-2.06.94z\"/><path d=\"M17.41 7.96l-1.37-1.37c-.4-.4-.92-.59-1.43-.59-.52 0-1.04.2-1.43.59L10.3 9.45l-7.72 7.72c-.78.78-.78 2.05 0 2.83L4 21.41c.39.39.9.59 1.41.59.51 0 1.02-.2 1.41-.59l7.78-7.78 2.81-2.81c.8-.78.8-2.07 0-2.86zM5.41 20L4 18.59l7.72-7.72 1.47 1.35L5.41 20z\"/>\n",
              "  </svg>\n",
              "      </button>\n",
              "      \n",
              "  <style>\n",
              "    .colab-df-container {\n",
              "      display:flex;\n",
              "      flex-wrap:wrap;\n",
              "      gap: 12px;\n",
              "    }\n",
              "\n",
              "    .colab-df-convert {\n",
              "      background-color: #E8F0FE;\n",
              "      border: none;\n",
              "      border-radius: 50%;\n",
              "      cursor: pointer;\n",
              "      display: none;\n",
              "      fill: #1967D2;\n",
              "      height: 32px;\n",
              "      padding: 0 0 0 0;\n",
              "      width: 32px;\n",
              "    }\n",
              "\n",
              "    .colab-df-convert:hover {\n",
              "      background-color: #E2EBFA;\n",
              "      box-shadow: 0px 1px 2px rgba(60, 64, 67, 0.3), 0px 1px 3px 1px rgba(60, 64, 67, 0.15);\n",
              "      fill: #174EA6;\n",
              "    }\n",
              "\n",
              "    [theme=dark] .colab-df-convert {\n",
              "      background-color: #3B4455;\n",
              "      fill: #D2E3FC;\n",
              "    }\n",
              "\n",
              "    [theme=dark] .colab-df-convert:hover {\n",
              "      background-color: #434B5C;\n",
              "      box-shadow: 0px 1px 3px 1px rgba(0, 0, 0, 0.15);\n",
              "      filter: drop-shadow(0px 1px 2px rgba(0, 0, 0, 0.3));\n",
              "      fill: #FFFFFF;\n",
              "    }\n",
              "  </style>\n",
              "\n",
              "      <script>\n",
              "        const buttonEl =\n",
              "          document.querySelector('#df-17073842-b3f3-4ceb-9451-fab733a9020c button.colab-df-convert');\n",
              "        buttonEl.style.display =\n",
              "          google.colab.kernel.accessAllowed ? 'block' : 'none';\n",
              "\n",
              "        async function convertToInteractive(key) {\n",
              "          const element = document.querySelector('#df-17073842-b3f3-4ceb-9451-fab733a9020c');\n",
              "          const dataTable =\n",
              "            await google.colab.kernel.invokeFunction('convertToInteractive',\n",
              "                                                     [key], {});\n",
              "          if (!dataTable) return;\n",
              "\n",
              "          const docLinkHtml = 'Like what you see? Visit the ' +\n",
              "            '<a target=\"_blank\" href=https://colab.research.google.com/notebooks/data_table.ipynb>data table notebook</a>'\n",
              "            + ' to learn more about interactive tables.';\n",
              "          element.innerHTML = '';\n",
              "          dataTable['output_type'] = 'display_data';\n",
              "          await google.colab.output.renderOutput(dataTable, element);\n",
              "          const docLink = document.createElement('div');\n",
              "          docLink.innerHTML = docLinkHtml;\n",
              "          element.appendChild(docLink);\n",
              "        }\n",
              "      </script>\n",
              "    </div>\n",
              "  </div>\n",
              "  "
            ]
          },
          "metadata": {},
          "execution_count": 10
        }
      ]
    },
    {
      "cell_type": "code",
      "execution_count": null,
      "id": "cbdf2411",
      "metadata": {
        "id": "cbdf2411"
      },
      "outputs": [],
      "source": [
        "def prep_penguin_data(data_df):\n",
        "    df = data_df.copy()\n",
        "    df = df.dropna()\n",
        "    df = df[df['Sex']!='.']\n",
        "    le = preprocessing.LabelEncoder()\n",
        "    df['Sex'] = le.fit_transform(df['Sex'])\n",
        "    df['Island'] = le.fit_transform(df['Island'])\n",
        "    df['Species'] = le.fit_transform(df['Species'])\n",
        "\n",
        "    X = df.drop(['Species'], axis = 1)\n",
        "    y = df['Species']\n",
        "\n",
        "    return(X, y)"
      ]
    },
    {
      "cell_type": "code",
      "execution_count": null,
      "id": "85e0fbe5",
      "metadata": {
        "id": "85e0fbe5"
      },
      "outputs": [],
      "source": [
        "X_train, Y_train = prep_penguin_data(train)\n",
        "X_test, Y_test = prep_penguin_data(test)"
      ]
    },
    {
      "cell_type": "code",
      "execution_count": null,
      "id": "22e4302c",
      "metadata": {
        "id": "22e4302c",
        "outputId": "7572c302-1644-4619-bbcf-0001b3e6f57b",
        "colab": {
          "base_uri": "https://localhost:8080/"
        }
      },
      "outputs": [
        {
          "output_type": "execute_result",
          "data": {
            "text/plain": [
              "((258, 8), (258,), (66, 8), (66,))"
            ]
          },
          "metadata": {},
          "execution_count": 13
        }
      ],
      "source": [
        "X_train.shape, Y_train.shape, X_test.shape, Y_test.shape"
      ]
    },
    {
      "cell_type": "code",
      "execution_count": null,
      "id": "90683785",
      "metadata": {
        "id": "90683785",
        "outputId": "8a5b0503-706a-415e-a37f-eec39d926656",
        "colab": {
          "base_uri": "https://localhost:8080/"
        }
      },
      "outputs": [
        {
          "output_type": "stream",
          "name": "stdout",
          "text": [
            "     Island  Culmen Length (mm)  Culmen Depth (mm)  Flipper Length (mm)  \\\n",
            "160       1                46.0               18.9                195.0   \n",
            "34        1                36.4               17.0                195.0   \n",
            "128       2                39.0               17.1                191.0   \n",
            "107       0                38.2               20.0                190.0   \n",
            "187       1                47.5               16.8                199.0   \n",
            "..      ...                 ...                ...                  ...   \n",
            "316       0                49.4               15.8                216.0   \n",
            "218       1                50.8               19.0                210.0   \n",
            "196       1                50.9               17.9                196.0   \n",
            "100       0                35.0               17.9                192.0   \n",
            "67        0                41.1               19.1                188.0   \n",
            "\n",
            "     Body Mass (g)  Sex  Delta 15 N (o/oo)  Delta 13 C (o/oo)  \n",
            "160         4150.0    0            8.47173          -24.29229  \n",
            "34          3325.0    0            9.17847          -25.23061  \n",
            "128         3050.0    0            9.19031          -25.73722  \n",
            "107         3900.0    1            9.59245          -25.70711  \n",
            "187         3900.0    0            9.07825          -25.14550  \n",
            "..             ...  ...                ...                ...  \n",
            "316         4925.0    1            8.03624          -26.06594  \n",
            "218         4100.0    1            9.98044          -24.68741  \n",
            "196         3675.0    0            9.43684          -24.16566  \n",
            "100         3725.0    0            8.84451          -26.28055  \n",
            "67          4100.0    1            8.71078          -25.81012  \n",
            "\n",
            "[258 rows x 8 columns]\n",
            "160    1\n",
            "34     0\n",
            "128    0\n",
            "107    0\n",
            "187    1\n",
            "      ..\n",
            "316    2\n",
            "218    1\n",
            "196    1\n",
            "100    0\n",
            "67     0\n",
            "Name: Species, Length: 258, dtype: int64\n"
          ]
        }
      ],
      "source": [
        "print(X_train)\n",
        "print(Y_train)"
      ]
    },
    {
      "cell_type": "markdown",
      "id": "25d57935",
      "metadata": {
        "id": "25d57935"
      },
      "source": [
        "## **Exploratory Analysis:**"
      ]
    },
    {
      "cell_type": "code",
      "source": [
        "penguins = penguins.dropna()\n",
        "penguins = penguins.loc[penguins[\"Sex\"] != \".\"]\n"
      ],
      "metadata": {
        "id": "ZI_qFry5Dlgx"
      },
      "id": "ZI_qFry5Dlgx",
      "execution_count": null,
      "outputs": []
    },
    {
      "cell_type": "markdown",
      "source": [
        "### Data Tables - Identifying Culmen Length, Flipper Length and Body Mass"
      ],
      "metadata": {
        "id": "KjYmY2OBMoXL"
      },
      "id": "KjYmY2OBMoXL"
    },
    {
      "cell_type": "code",
      "source": [
        "#Creating a data table to understand the mean difference between the species with regards to the quantitative data\n",
        "\n",
        "penguins.groupby('Species').mean()"
      ],
      "metadata": {
        "colab": {
          "base_uri": "https://localhost:8080/"
        },
        "id": "Uz3ZzNwHOOWj",
        "outputId": "7ef3ae1f-dd6f-4652-f788-1aafe1e2bb8e"
      },
      "id": "Uz3ZzNwHOOWj",
      "execution_count": null,
      "outputs": [
        {
          "output_type": "execute_result",
          "data": {
            "text/plain": [
              "           Culmen Length (mm)  Culmen Depth (mm)  Flipper Length (mm)  \\\n",
              "Species                                                                 \n",
              "Adelie              38.785612          18.323022           190.323741   \n",
              "Chinstrap           48.788060          18.404478           195.671642   \n",
              "Gentoo              47.570339          14.994068           217.194915   \n",
              "\n",
              "           Body Mass (g)  Delta 15 N (o/oo)  Delta 13 C (o/oo)  \n",
              "Species                                                         \n",
              "Adelie       3702.697842           8.859398         -25.813557  \n",
              "Chinstrap    3729.850746           9.356155         -24.557869  \n",
              "Gentoo       5091.101695           8.249349         -26.183681  "
            ],
            "text/html": [
              "\n",
              "  <div id=\"df-e5e502b0-ccd5-458e-9ec6-bce1fd652289\">\n",
              "    <div class=\"colab-df-container\">\n",
              "      <div>\n",
              "<style scoped>\n",
              "    .dataframe tbody tr th:only-of-type {\n",
              "        vertical-align: middle;\n",
              "    }\n",
              "\n",
              "    .dataframe tbody tr th {\n",
              "        vertical-align: top;\n",
              "    }\n",
              "\n",
              "    .dataframe thead th {\n",
              "        text-align: right;\n",
              "    }\n",
              "</style>\n",
              "<table border=\"1\" class=\"dataframe\">\n",
              "  <thead>\n",
              "    <tr style=\"text-align: right;\">\n",
              "      <th></th>\n",
              "      <th>Culmen Length (mm)</th>\n",
              "      <th>Culmen Depth (mm)</th>\n",
              "      <th>Flipper Length (mm)</th>\n",
              "      <th>Body Mass (g)</th>\n",
              "      <th>Delta 15 N (o/oo)</th>\n",
              "      <th>Delta 13 C (o/oo)</th>\n",
              "    </tr>\n",
              "    <tr>\n",
              "      <th>Species</th>\n",
              "      <th></th>\n",
              "      <th></th>\n",
              "      <th></th>\n",
              "      <th></th>\n",
              "      <th></th>\n",
              "      <th></th>\n",
              "    </tr>\n",
              "  </thead>\n",
              "  <tbody>\n",
              "    <tr>\n",
              "      <th>Adelie</th>\n",
              "      <td>38.785612</td>\n",
              "      <td>18.323022</td>\n",
              "      <td>190.323741</td>\n",
              "      <td>3702.697842</td>\n",
              "      <td>8.859398</td>\n",
              "      <td>-25.813557</td>\n",
              "    </tr>\n",
              "    <tr>\n",
              "      <th>Chinstrap</th>\n",
              "      <td>48.788060</td>\n",
              "      <td>18.404478</td>\n",
              "      <td>195.671642</td>\n",
              "      <td>3729.850746</td>\n",
              "      <td>9.356155</td>\n",
              "      <td>-24.557869</td>\n",
              "    </tr>\n",
              "    <tr>\n",
              "      <th>Gentoo</th>\n",
              "      <td>47.570339</td>\n",
              "      <td>14.994068</td>\n",
              "      <td>217.194915</td>\n",
              "      <td>5091.101695</td>\n",
              "      <td>8.249349</td>\n",
              "      <td>-26.183681</td>\n",
              "    </tr>\n",
              "  </tbody>\n",
              "</table>\n",
              "</div>\n",
              "      <button class=\"colab-df-convert\" onclick=\"convertToInteractive('df-e5e502b0-ccd5-458e-9ec6-bce1fd652289')\"\n",
              "              title=\"Convert this dataframe to an interactive table.\"\n",
              "              style=\"display:none;\">\n",
              "        \n",
              "  <svg xmlns=\"http://www.w3.org/2000/svg\" height=\"24px\"viewBox=\"0 0 24 24\"\n",
              "       width=\"24px\">\n",
              "    <path d=\"M0 0h24v24H0V0z\" fill=\"none\"/>\n",
              "    <path d=\"M18.56 5.44l.94 2.06.94-2.06 2.06-.94-2.06-.94-.94-2.06-.94 2.06-2.06.94zm-11 1L8.5 8.5l.94-2.06 2.06-.94-2.06-.94L8.5 2.5l-.94 2.06-2.06.94zm10 10l.94 2.06.94-2.06 2.06-.94-2.06-.94-.94-2.06-.94 2.06-2.06.94z\"/><path d=\"M17.41 7.96l-1.37-1.37c-.4-.4-.92-.59-1.43-.59-.52 0-1.04.2-1.43.59L10.3 9.45l-7.72 7.72c-.78.78-.78 2.05 0 2.83L4 21.41c.39.39.9.59 1.41.59.51 0 1.02-.2 1.41-.59l7.78-7.78 2.81-2.81c.8-.78.8-2.07 0-2.86zM5.41 20L4 18.59l7.72-7.72 1.47 1.35L5.41 20z\"/>\n",
              "  </svg>\n",
              "      </button>\n",
              "      \n",
              "  <style>\n",
              "    .colab-df-container {\n",
              "      display:flex;\n",
              "      flex-wrap:wrap;\n",
              "      gap: 12px;\n",
              "    }\n",
              "\n",
              "    .colab-df-convert {\n",
              "      background-color: #E8F0FE;\n",
              "      border: none;\n",
              "      border-radius: 50%;\n",
              "      cursor: pointer;\n",
              "      display: none;\n",
              "      fill: #1967D2;\n",
              "      height: 32px;\n",
              "      padding: 0 0 0 0;\n",
              "      width: 32px;\n",
              "    }\n",
              "\n",
              "    .colab-df-convert:hover {\n",
              "      background-color: #E2EBFA;\n",
              "      box-shadow: 0px 1px 2px rgba(60, 64, 67, 0.3), 0px 1px 3px 1px rgba(60, 64, 67, 0.15);\n",
              "      fill: #174EA6;\n",
              "    }\n",
              "\n",
              "    [theme=dark] .colab-df-convert {\n",
              "      background-color: #3B4455;\n",
              "      fill: #D2E3FC;\n",
              "    }\n",
              "\n",
              "    [theme=dark] .colab-df-convert:hover {\n",
              "      background-color: #434B5C;\n",
              "      box-shadow: 0px 1px 3px 1px rgba(0, 0, 0, 0.15);\n",
              "      filter: drop-shadow(0px 1px 2px rgba(0, 0, 0, 0.3));\n",
              "      fill: #FFFFFF;\n",
              "    }\n",
              "  </style>\n",
              "\n",
              "      <script>\n",
              "        const buttonEl =\n",
              "          document.querySelector('#df-e5e502b0-ccd5-458e-9ec6-bce1fd652289 button.colab-df-convert');\n",
              "        buttonEl.style.display =\n",
              "          google.colab.kernel.accessAllowed ? 'block' : 'none';\n",
              "\n",
              "        async function convertToInteractive(key) {\n",
              "          const element = document.querySelector('#df-e5e502b0-ccd5-458e-9ec6-bce1fd652289');\n",
              "          const dataTable =\n",
              "            await google.colab.kernel.invokeFunction('convertToInteractive',\n",
              "                                                     [key], {});\n",
              "          if (!dataTable) return;\n",
              "\n",
              "          const docLinkHtml = 'Like what you see? Visit the ' +\n",
              "            '<a target=\"_blank\" href=https://colab.research.google.com/notebooks/data_table.ipynb>data table notebook</a>'\n",
              "            + ' to learn more about interactive tables.';\n",
              "          element.innerHTML = '';\n",
              "          dataTable['output_type'] = 'display_data';\n",
              "          await google.colab.output.renderOutput(dataTable, element);\n",
              "          const docLink = document.createElement('div');\n",
              "          docLink.innerHTML = docLinkHtml;\n",
              "          element.appendChild(docLink);\n",
              "        }\n",
              "      </script>\n",
              "    </div>\n",
              "  </div>\n",
              "  "
            ]
          },
          "metadata": {},
          "execution_count": 16
        }
      ]
    },
    {
      "cell_type": "markdown",
      "source": [
        "From the data table above, it can be seen that the highest variation of mean value across the species is **Culmen Length, Flipper Length, and Body Mass**. The other features have values where either all 3 are very close to each other, or two features overlap."
      ],
      "metadata": {
        "id": "ol6TxGq7ORH5"
      },
      "id": "ol6TxGq7ORH5"
    },
    {
      "cell_type": "code",
      "source": [
        "#creating a data table to find corelation between the quantitative features\n",
        "\n",
        "penguins.corr()"
      ],
      "metadata": {
        "colab": {
          "base_uri": "https://localhost:8080/"
        },
        "id": "nWlFkxhTPNqY",
        "outputId": "6f454325-01ac-4370-f4e4-7f25993d0064"
      },
      "id": "nWlFkxhTPNqY",
      "execution_count": null,
      "outputs": [
        {
          "output_type": "execute_result",
          "data": {
            "text/plain": [
              "                     Culmen Length (mm)  Culmen Depth (mm)  \\\n",
              "Culmen Length (mm)             1.000000          -0.222923   \n",
              "Culmen Depth (mm)             -0.222923           1.000000   \n",
              "Flipper Length (mm)            0.648947          -0.574924   \n",
              "Body Mass (g)                  0.591724          -0.470177   \n",
              "Delta 15 N (o/oo)             -0.056942           0.599481   \n",
              "Delta 13 C (o/oo)              0.188517           0.420012   \n",
              "\n",
              "                     Flipper Length (mm)  Body Mass (g)  Delta 15 N (o/oo)  \\\n",
              "Culmen Length (mm)              0.648947       0.591724          -0.056942   \n",
              "Culmen Depth (mm)              -0.574924      -0.470177           0.599481   \n",
              "Flipper Length (mm)             1.000000       0.877066          -0.501601   \n",
              "Body Mass (g)                   0.877066       1.000000          -0.539795   \n",
              "Delta 15 N (o/oo)              -0.501601      -0.539795           1.000000   \n",
              "Delta 13 C (o/oo)              -0.375570      -0.372041           0.569393   \n",
              "\n",
              "                     Delta 13 C (o/oo)  \n",
              "Culmen Length (mm)            0.188517  \n",
              "Culmen Depth (mm)             0.420012  \n",
              "Flipper Length (mm)          -0.375570  \n",
              "Body Mass (g)                -0.372041  \n",
              "Delta 15 N (o/oo)             0.569393  \n",
              "Delta 13 C (o/oo)             1.000000  "
            ],
            "text/html": [
              "\n",
              "  <div id=\"df-ed205428-b6cf-4f81-bcd4-524cbddfd26f\">\n",
              "    <div class=\"colab-df-container\">\n",
              "      <div>\n",
              "<style scoped>\n",
              "    .dataframe tbody tr th:only-of-type {\n",
              "        vertical-align: middle;\n",
              "    }\n",
              "\n",
              "    .dataframe tbody tr th {\n",
              "        vertical-align: top;\n",
              "    }\n",
              "\n",
              "    .dataframe thead th {\n",
              "        text-align: right;\n",
              "    }\n",
              "</style>\n",
              "<table border=\"1\" class=\"dataframe\">\n",
              "  <thead>\n",
              "    <tr style=\"text-align: right;\">\n",
              "      <th></th>\n",
              "      <th>Culmen Length (mm)</th>\n",
              "      <th>Culmen Depth (mm)</th>\n",
              "      <th>Flipper Length (mm)</th>\n",
              "      <th>Body Mass (g)</th>\n",
              "      <th>Delta 15 N (o/oo)</th>\n",
              "      <th>Delta 13 C (o/oo)</th>\n",
              "    </tr>\n",
              "  </thead>\n",
              "  <tbody>\n",
              "    <tr>\n",
              "      <th>Culmen Length (mm)</th>\n",
              "      <td>1.000000</td>\n",
              "      <td>-0.222923</td>\n",
              "      <td>0.648947</td>\n",
              "      <td>0.591724</td>\n",
              "      <td>-0.056942</td>\n",
              "      <td>0.188517</td>\n",
              "    </tr>\n",
              "    <tr>\n",
              "      <th>Culmen Depth (mm)</th>\n",
              "      <td>-0.222923</td>\n",
              "      <td>1.000000</td>\n",
              "      <td>-0.574924</td>\n",
              "      <td>-0.470177</td>\n",
              "      <td>0.599481</td>\n",
              "      <td>0.420012</td>\n",
              "    </tr>\n",
              "    <tr>\n",
              "      <th>Flipper Length (mm)</th>\n",
              "      <td>0.648947</td>\n",
              "      <td>-0.574924</td>\n",
              "      <td>1.000000</td>\n",
              "      <td>0.877066</td>\n",
              "      <td>-0.501601</td>\n",
              "      <td>-0.375570</td>\n",
              "    </tr>\n",
              "    <tr>\n",
              "      <th>Body Mass (g)</th>\n",
              "      <td>0.591724</td>\n",
              "      <td>-0.470177</td>\n",
              "      <td>0.877066</td>\n",
              "      <td>1.000000</td>\n",
              "      <td>-0.539795</td>\n",
              "      <td>-0.372041</td>\n",
              "    </tr>\n",
              "    <tr>\n",
              "      <th>Delta 15 N (o/oo)</th>\n",
              "      <td>-0.056942</td>\n",
              "      <td>0.599481</td>\n",
              "      <td>-0.501601</td>\n",
              "      <td>-0.539795</td>\n",
              "      <td>1.000000</td>\n",
              "      <td>0.569393</td>\n",
              "    </tr>\n",
              "    <tr>\n",
              "      <th>Delta 13 C (o/oo)</th>\n",
              "      <td>0.188517</td>\n",
              "      <td>0.420012</td>\n",
              "      <td>-0.375570</td>\n",
              "      <td>-0.372041</td>\n",
              "      <td>0.569393</td>\n",
              "      <td>1.000000</td>\n",
              "    </tr>\n",
              "  </tbody>\n",
              "</table>\n",
              "</div>\n",
              "      <button class=\"colab-df-convert\" onclick=\"convertToInteractive('df-ed205428-b6cf-4f81-bcd4-524cbddfd26f')\"\n",
              "              title=\"Convert this dataframe to an interactive table.\"\n",
              "              style=\"display:none;\">\n",
              "        \n",
              "  <svg xmlns=\"http://www.w3.org/2000/svg\" height=\"24px\"viewBox=\"0 0 24 24\"\n",
              "       width=\"24px\">\n",
              "    <path d=\"M0 0h24v24H0V0z\" fill=\"none\"/>\n",
              "    <path d=\"M18.56 5.44l.94 2.06.94-2.06 2.06-.94-2.06-.94-.94-2.06-.94 2.06-2.06.94zm-11 1L8.5 8.5l.94-2.06 2.06-.94-2.06-.94L8.5 2.5l-.94 2.06-2.06.94zm10 10l.94 2.06.94-2.06 2.06-.94-2.06-.94-.94-2.06-.94 2.06-2.06.94z\"/><path d=\"M17.41 7.96l-1.37-1.37c-.4-.4-.92-.59-1.43-.59-.52 0-1.04.2-1.43.59L10.3 9.45l-7.72 7.72c-.78.78-.78 2.05 0 2.83L4 21.41c.39.39.9.59 1.41.59.51 0 1.02-.2 1.41-.59l7.78-7.78 2.81-2.81c.8-.78.8-2.07 0-2.86zM5.41 20L4 18.59l7.72-7.72 1.47 1.35L5.41 20z\"/>\n",
              "  </svg>\n",
              "      </button>\n",
              "      \n",
              "  <style>\n",
              "    .colab-df-container {\n",
              "      display:flex;\n",
              "      flex-wrap:wrap;\n",
              "      gap: 12px;\n",
              "    }\n",
              "\n",
              "    .colab-df-convert {\n",
              "      background-color: #E8F0FE;\n",
              "      border: none;\n",
              "      border-radius: 50%;\n",
              "      cursor: pointer;\n",
              "      display: none;\n",
              "      fill: #1967D2;\n",
              "      height: 32px;\n",
              "      padding: 0 0 0 0;\n",
              "      width: 32px;\n",
              "    }\n",
              "\n",
              "    .colab-df-convert:hover {\n",
              "      background-color: #E2EBFA;\n",
              "      box-shadow: 0px 1px 2px rgba(60, 64, 67, 0.3), 0px 1px 3px 1px rgba(60, 64, 67, 0.15);\n",
              "      fill: #174EA6;\n",
              "    }\n",
              "\n",
              "    [theme=dark] .colab-df-convert {\n",
              "      background-color: #3B4455;\n",
              "      fill: #D2E3FC;\n",
              "    }\n",
              "\n",
              "    [theme=dark] .colab-df-convert:hover {\n",
              "      background-color: #434B5C;\n",
              "      box-shadow: 0px 1px 3px 1px rgba(0, 0, 0, 0.15);\n",
              "      filter: drop-shadow(0px 1px 2px rgba(0, 0, 0, 0.3));\n",
              "      fill: #FFFFFF;\n",
              "    }\n",
              "  </style>\n",
              "\n",
              "      <script>\n",
              "        const buttonEl =\n",
              "          document.querySelector('#df-ed205428-b6cf-4f81-bcd4-524cbddfd26f button.colab-df-convert');\n",
              "        buttonEl.style.display =\n",
              "          google.colab.kernel.accessAllowed ? 'block' : 'none';\n",
              "\n",
              "        async function convertToInteractive(key) {\n",
              "          const element = document.querySelector('#df-ed205428-b6cf-4f81-bcd4-524cbddfd26f');\n",
              "          const dataTable =\n",
              "            await google.colab.kernel.invokeFunction('convertToInteractive',\n",
              "                                                     [key], {});\n",
              "          if (!dataTable) return;\n",
              "\n",
              "          const docLinkHtml = 'Like what you see? Visit the ' +\n",
              "            '<a target=\"_blank\" href=https://colab.research.google.com/notebooks/data_table.ipynb>data table notebook</a>'\n",
              "            + ' to learn more about interactive tables.';\n",
              "          element.innerHTML = '';\n",
              "          dataTable['output_type'] = 'display_data';\n",
              "          await google.colab.output.renderOutput(dataTable, element);\n",
              "          const docLink = document.createElement('div');\n",
              "          docLink.innerHTML = docLinkHtml;\n",
              "          element.appendChild(docLink);\n",
              "        }\n",
              "      </script>\n",
              "    </div>\n",
              "  </div>\n",
              "  "
            ]
          },
          "metadata": {},
          "execution_count": 17
        }
      ]
    },
    {
      "cell_type": "markdown",
      "source": [
        "Since Flipper Length and Body Mass have the highest corelation, we can select either **Flipper Length OR Body Mass** along with Culmen Length for similar results. We will use seaborn to further visualise them and chose the best feature."
      ],
      "metadata": {
        "id": "--m3xlL4PRKW"
      },
      "id": "--m3xlL4PRKW"
    },
    {
      "cell_type": "code",
      "source": [
        "#Creating a data table, grouped by the qualitative features\n",
        "\n",
        "penguins.groupby([\"Species\",\"Sex\", \"Island\"]).agg([len,np.mean])"
      ],
      "metadata": {
        "colab": {
          "base_uri": "https://localhost:8080/"
        },
        "id": "XURIva02MZ0I",
        "outputId": "1afa6811-90ad-474a-9571-ea0703e34b54"
      },
      "id": "XURIva02MZ0I",
      "execution_count": null,
      "outputs": [
        {
          "output_type": "execute_result",
          "data": {
            "text/plain": [
              "                           Culmen Length (mm)            Culmen Depth (mm)  \\\n",
              "                                          len       mean               len   \n",
              "Species   Sex    Island                                                      \n",
              "Adelie    FEMALE Biscoe                    22  37.359091                22   \n",
              "                 Dream                     27  36.911111                27   \n",
              "                 Torgersen                 22  37.436364                22   \n",
              "          MALE   Biscoe                    22  40.590909                22   \n",
              "                 Dream                     25  40.012000                25   \n",
              "                 Torgersen                 21  40.752381                21   \n",
              "Chinstrap FEMALE Dream                     34  46.573529                34   \n",
              "          MALE   Dream                     33  51.069697                33   \n",
              "Gentoo    FEMALE Biscoe                    58  45.563793                58   \n",
              "          MALE   Biscoe                    60  49.510000                60   \n",
              "\n",
              "                                      Flipper Length (mm)              \\\n",
              "                                 mean                 len        mean   \n",
              "Species   Sex    Island                                                 \n",
              "Adelie    FEMALE Biscoe     17.704545                  22  187.181818   \n",
              "                 Dream      17.618519                  27  187.851852   \n",
              "                 Torgersen  17.536364                  22  188.727273   \n",
              "          MALE   Biscoe     19.036364                  22  190.409091   \n",
              "                 Dream      18.840000                  25  192.520000   \n",
              "                 Torgersen  19.338095                  21  195.761905   \n",
              "Chinstrap FEMALE Dream      17.588235                  34  191.735294   \n",
              "          MALE   Dream      19.245455                  33  199.727273   \n",
              "Gentoo    FEMALE Biscoe     14.237931                  58  212.706897   \n",
              "          MALE   Biscoe     15.725000                  60  221.533333   \n",
              "\n",
              "                           Body Mass (g)              Delta 15 N (o/oo)  \\\n",
              "                                     len         mean               len   \n",
              "Species   Sex    Island                                                   \n",
              "Adelie    FEMALE Biscoe               22  3369.318182                22   \n",
              "                 Dream                27  3344.444444                27   \n",
              "                 Torgersen            22  3390.909091                22   \n",
              "          MALE   Biscoe               22  4050.000000                22   \n",
              "                 Dream                25  4052.000000                25   \n",
              "                 Torgersen            21  4059.523810                21   \n",
              "Chinstrap FEMALE Dream                34  3527.205882                34   \n",
              "          MALE   Dream                33  3938.636364                33   \n",
              "Gentoo    FEMALE Biscoe               58  4679.741379                58   \n",
              "          MALE   Biscoe               60  5488.750000                60   \n",
              "\n",
              "                                     Delta 13 C (o/oo)             \n",
              "                                mean               len       mean  \n",
              "Species   Sex    Island                                            \n",
              "Adelie    FEMALE Biscoe     8.774242                22 -25.920176  \n",
              "                 Dream      8.914803                27 -25.736636  \n",
              "                 Torgersen  8.663160                22 -25.738735  \n",
              "          MALE   Biscoe     8.872945                22 -25.917227  \n",
              "                 Dream      8.984427                25 -25.759120  \n",
              "                 Torgersen  8.919919                21 -25.835347  \n",
              "Chinstrap FEMALE Dream      9.250962                34 -24.565405  \n",
              "          MALE   Dream      9.464535                33 -24.550104  \n",
              "Gentoo    FEMALE Biscoe     8.193405                58 -26.197205  \n",
              "          MALE   Biscoe     8.303429                60 -26.170608  "
            ],
            "text/html": [
              "\n",
              "  <div id=\"df-17ebf945-002c-4693-b8b5-1e084027f4cb\">\n",
              "    <div class=\"colab-df-container\">\n",
              "      <div>\n",
              "<style scoped>\n",
              "    .dataframe tbody tr th:only-of-type {\n",
              "        vertical-align: middle;\n",
              "    }\n",
              "\n",
              "    .dataframe tbody tr th {\n",
              "        vertical-align: top;\n",
              "    }\n",
              "\n",
              "    .dataframe thead tr th {\n",
              "        text-align: left;\n",
              "    }\n",
              "\n",
              "    .dataframe thead tr:last-of-type th {\n",
              "        text-align: right;\n",
              "    }\n",
              "</style>\n",
              "<table border=\"1\" class=\"dataframe\">\n",
              "  <thead>\n",
              "    <tr>\n",
              "      <th></th>\n",
              "      <th></th>\n",
              "      <th></th>\n",
              "      <th colspan=\"2\" halign=\"left\">Culmen Length (mm)</th>\n",
              "      <th colspan=\"2\" halign=\"left\">Culmen Depth (mm)</th>\n",
              "      <th colspan=\"2\" halign=\"left\">Flipper Length (mm)</th>\n",
              "      <th colspan=\"2\" halign=\"left\">Body Mass (g)</th>\n",
              "      <th colspan=\"2\" halign=\"left\">Delta 15 N (o/oo)</th>\n",
              "      <th colspan=\"2\" halign=\"left\">Delta 13 C (o/oo)</th>\n",
              "    </tr>\n",
              "    <tr>\n",
              "      <th></th>\n",
              "      <th></th>\n",
              "      <th></th>\n",
              "      <th>len</th>\n",
              "      <th>mean</th>\n",
              "      <th>len</th>\n",
              "      <th>mean</th>\n",
              "      <th>len</th>\n",
              "      <th>mean</th>\n",
              "      <th>len</th>\n",
              "      <th>mean</th>\n",
              "      <th>len</th>\n",
              "      <th>mean</th>\n",
              "      <th>len</th>\n",
              "      <th>mean</th>\n",
              "    </tr>\n",
              "    <tr>\n",
              "      <th>Species</th>\n",
              "      <th>Sex</th>\n",
              "      <th>Island</th>\n",
              "      <th></th>\n",
              "      <th></th>\n",
              "      <th></th>\n",
              "      <th></th>\n",
              "      <th></th>\n",
              "      <th></th>\n",
              "      <th></th>\n",
              "      <th></th>\n",
              "      <th></th>\n",
              "      <th></th>\n",
              "      <th></th>\n",
              "      <th></th>\n",
              "    </tr>\n",
              "  </thead>\n",
              "  <tbody>\n",
              "    <tr>\n",
              "      <th rowspan=\"6\" valign=\"top\">Adelie</th>\n",
              "      <th rowspan=\"3\" valign=\"top\">FEMALE</th>\n",
              "      <th>Biscoe</th>\n",
              "      <td>22</td>\n",
              "      <td>37.359091</td>\n",
              "      <td>22</td>\n",
              "      <td>17.704545</td>\n",
              "      <td>22</td>\n",
              "      <td>187.181818</td>\n",
              "      <td>22</td>\n",
              "      <td>3369.318182</td>\n",
              "      <td>22</td>\n",
              "      <td>8.774242</td>\n",
              "      <td>22</td>\n",
              "      <td>-25.920176</td>\n",
              "    </tr>\n",
              "    <tr>\n",
              "      <th>Dream</th>\n",
              "      <td>27</td>\n",
              "      <td>36.911111</td>\n",
              "      <td>27</td>\n",
              "      <td>17.618519</td>\n",
              "      <td>27</td>\n",
              "      <td>187.851852</td>\n",
              "      <td>27</td>\n",
              "      <td>3344.444444</td>\n",
              "      <td>27</td>\n",
              "      <td>8.914803</td>\n",
              "      <td>27</td>\n",
              "      <td>-25.736636</td>\n",
              "    </tr>\n",
              "    <tr>\n",
              "      <th>Torgersen</th>\n",
              "      <td>22</td>\n",
              "      <td>37.436364</td>\n",
              "      <td>22</td>\n",
              "      <td>17.536364</td>\n",
              "      <td>22</td>\n",
              "      <td>188.727273</td>\n",
              "      <td>22</td>\n",
              "      <td>3390.909091</td>\n",
              "      <td>22</td>\n",
              "      <td>8.663160</td>\n",
              "      <td>22</td>\n",
              "      <td>-25.738735</td>\n",
              "    </tr>\n",
              "    <tr>\n",
              "      <th rowspan=\"3\" valign=\"top\">MALE</th>\n",
              "      <th>Biscoe</th>\n",
              "      <td>22</td>\n",
              "      <td>40.590909</td>\n",
              "      <td>22</td>\n",
              "      <td>19.036364</td>\n",
              "      <td>22</td>\n",
              "      <td>190.409091</td>\n",
              "      <td>22</td>\n",
              "      <td>4050.000000</td>\n",
              "      <td>22</td>\n",
              "      <td>8.872945</td>\n",
              "      <td>22</td>\n",
              "      <td>-25.917227</td>\n",
              "    </tr>\n",
              "    <tr>\n",
              "      <th>Dream</th>\n",
              "      <td>25</td>\n",
              "      <td>40.012000</td>\n",
              "      <td>25</td>\n",
              "      <td>18.840000</td>\n",
              "      <td>25</td>\n",
              "      <td>192.520000</td>\n",
              "      <td>25</td>\n",
              "      <td>4052.000000</td>\n",
              "      <td>25</td>\n",
              "      <td>8.984427</td>\n",
              "      <td>25</td>\n",
              "      <td>-25.759120</td>\n",
              "    </tr>\n",
              "    <tr>\n",
              "      <th>Torgersen</th>\n",
              "      <td>21</td>\n",
              "      <td>40.752381</td>\n",
              "      <td>21</td>\n",
              "      <td>19.338095</td>\n",
              "      <td>21</td>\n",
              "      <td>195.761905</td>\n",
              "      <td>21</td>\n",
              "      <td>4059.523810</td>\n",
              "      <td>21</td>\n",
              "      <td>8.919919</td>\n",
              "      <td>21</td>\n",
              "      <td>-25.835347</td>\n",
              "    </tr>\n",
              "    <tr>\n",
              "      <th rowspan=\"2\" valign=\"top\">Chinstrap</th>\n",
              "      <th>FEMALE</th>\n",
              "      <th>Dream</th>\n",
              "      <td>34</td>\n",
              "      <td>46.573529</td>\n",
              "      <td>34</td>\n",
              "      <td>17.588235</td>\n",
              "      <td>34</td>\n",
              "      <td>191.735294</td>\n",
              "      <td>34</td>\n",
              "      <td>3527.205882</td>\n",
              "      <td>34</td>\n",
              "      <td>9.250962</td>\n",
              "      <td>34</td>\n",
              "      <td>-24.565405</td>\n",
              "    </tr>\n",
              "    <tr>\n",
              "      <th>MALE</th>\n",
              "      <th>Dream</th>\n",
              "      <td>33</td>\n",
              "      <td>51.069697</td>\n",
              "      <td>33</td>\n",
              "      <td>19.245455</td>\n",
              "      <td>33</td>\n",
              "      <td>199.727273</td>\n",
              "      <td>33</td>\n",
              "      <td>3938.636364</td>\n",
              "      <td>33</td>\n",
              "      <td>9.464535</td>\n",
              "      <td>33</td>\n",
              "      <td>-24.550104</td>\n",
              "    </tr>\n",
              "    <tr>\n",
              "      <th rowspan=\"2\" valign=\"top\">Gentoo</th>\n",
              "      <th>FEMALE</th>\n",
              "      <th>Biscoe</th>\n",
              "      <td>58</td>\n",
              "      <td>45.563793</td>\n",
              "      <td>58</td>\n",
              "      <td>14.237931</td>\n",
              "      <td>58</td>\n",
              "      <td>212.706897</td>\n",
              "      <td>58</td>\n",
              "      <td>4679.741379</td>\n",
              "      <td>58</td>\n",
              "      <td>8.193405</td>\n",
              "      <td>58</td>\n",
              "      <td>-26.197205</td>\n",
              "    </tr>\n",
              "    <tr>\n",
              "      <th>MALE</th>\n",
              "      <th>Biscoe</th>\n",
              "      <td>60</td>\n",
              "      <td>49.510000</td>\n",
              "      <td>60</td>\n",
              "      <td>15.725000</td>\n",
              "      <td>60</td>\n",
              "      <td>221.533333</td>\n",
              "      <td>60</td>\n",
              "      <td>5488.750000</td>\n",
              "      <td>60</td>\n",
              "      <td>8.303429</td>\n",
              "      <td>60</td>\n",
              "      <td>-26.170608</td>\n",
              "    </tr>\n",
              "  </tbody>\n",
              "</table>\n",
              "</div>\n",
              "      <button class=\"colab-df-convert\" onclick=\"convertToInteractive('df-17ebf945-002c-4693-b8b5-1e084027f4cb')\"\n",
              "              title=\"Convert this dataframe to an interactive table.\"\n",
              "              style=\"display:none;\">\n",
              "        \n",
              "  <svg xmlns=\"http://www.w3.org/2000/svg\" height=\"24px\"viewBox=\"0 0 24 24\"\n",
              "       width=\"24px\">\n",
              "    <path d=\"M0 0h24v24H0V0z\" fill=\"none\"/>\n",
              "    <path d=\"M18.56 5.44l.94 2.06.94-2.06 2.06-.94-2.06-.94-.94-2.06-.94 2.06-2.06.94zm-11 1L8.5 8.5l.94-2.06 2.06-.94-2.06-.94L8.5 2.5l-.94 2.06-2.06.94zm10 10l.94 2.06.94-2.06 2.06-.94-2.06-.94-.94-2.06-.94 2.06-2.06.94z\"/><path d=\"M17.41 7.96l-1.37-1.37c-.4-.4-.92-.59-1.43-.59-.52 0-1.04.2-1.43.59L10.3 9.45l-7.72 7.72c-.78.78-.78 2.05 0 2.83L4 21.41c.39.39.9.59 1.41.59.51 0 1.02-.2 1.41-.59l7.78-7.78 2.81-2.81c.8-.78.8-2.07 0-2.86zM5.41 20L4 18.59l7.72-7.72 1.47 1.35L5.41 20z\"/>\n",
              "  </svg>\n",
              "      </button>\n",
              "      \n",
              "  <style>\n",
              "    .colab-df-container {\n",
              "      display:flex;\n",
              "      flex-wrap:wrap;\n",
              "      gap: 12px;\n",
              "    }\n",
              "\n",
              "    .colab-df-convert {\n",
              "      background-color: #E8F0FE;\n",
              "      border: none;\n",
              "      border-radius: 50%;\n",
              "      cursor: pointer;\n",
              "      display: none;\n",
              "      fill: #1967D2;\n",
              "      height: 32px;\n",
              "      padding: 0 0 0 0;\n",
              "      width: 32px;\n",
              "    }\n",
              "\n",
              "    .colab-df-convert:hover {\n",
              "      background-color: #E2EBFA;\n",
              "      box-shadow: 0px 1px 2px rgba(60, 64, 67, 0.3), 0px 1px 3px 1px rgba(60, 64, 67, 0.15);\n",
              "      fill: #174EA6;\n",
              "    }\n",
              "\n",
              "    [theme=dark] .colab-df-convert {\n",
              "      background-color: #3B4455;\n",
              "      fill: #D2E3FC;\n",
              "    }\n",
              "\n",
              "    [theme=dark] .colab-df-convert:hover {\n",
              "      background-color: #434B5C;\n",
              "      box-shadow: 0px 1px 3px 1px rgba(0, 0, 0, 0.15);\n",
              "      filter: drop-shadow(0px 1px 2px rgba(0, 0, 0, 0.3));\n",
              "      fill: #FFFFFF;\n",
              "    }\n",
              "  </style>\n",
              "\n",
              "      <script>\n",
              "        const buttonEl =\n",
              "          document.querySelector('#df-17ebf945-002c-4693-b8b5-1e084027f4cb button.colab-df-convert');\n",
              "        buttonEl.style.display =\n",
              "          google.colab.kernel.accessAllowed ? 'block' : 'none';\n",
              "\n",
              "        async function convertToInteractive(key) {\n",
              "          const element = document.querySelector('#df-17ebf945-002c-4693-b8b5-1e084027f4cb');\n",
              "          const dataTable =\n",
              "            await google.colab.kernel.invokeFunction('convertToInteractive',\n",
              "                                                     [key], {});\n",
              "          if (!dataTable) return;\n",
              "\n",
              "          const docLinkHtml = 'Like what you see? Visit the ' +\n",
              "            '<a target=\"_blank\" href=https://colab.research.google.com/notebooks/data_table.ipynb>data table notebook</a>'\n",
              "            + ' to learn more about interactive tables.';\n",
              "          element.innerHTML = '';\n",
              "          dataTable['output_type'] = 'display_data';\n",
              "          await google.colab.output.renderOutput(dataTable, element);\n",
              "          const docLink = document.createElement('div');\n",
              "          docLink.innerHTML = docLinkHtml;\n",
              "          element.appendChild(docLink);\n",
              "        }\n",
              "      </script>\n",
              "    </div>\n",
              "  </div>\n",
              "  "
            ]
          },
          "metadata": {},
          "execution_count": 18
        }
      ]
    },
    {
      "cell_type": "code",
      "source": [
        "penguins.groupby([\"Species\",\"Island\", \"Sex\"]).agg([len,np.mean])"
      ],
      "metadata": {
        "colab": {
          "base_uri": "https://localhost:8080/"
        },
        "id": "csK0x88tNRVS",
        "outputId": "2bd3ee35-3b59-498d-ec77-eff55abc5320"
      },
      "id": "csK0x88tNRVS",
      "execution_count": null,
      "outputs": [
        {
          "output_type": "execute_result",
          "data": {
            "text/plain": [
              "                           Culmen Length (mm)            Culmen Depth (mm)  \\\n",
              "                                          len       mean               len   \n",
              "Species   Island    Sex                                                      \n",
              "Adelie    Biscoe    FEMALE                 22  37.359091                22   \n",
              "                    MALE                   22  40.590909                22   \n",
              "          Dream     FEMALE                 27  36.911111                27   \n",
              "                    MALE                   25  40.012000                25   \n",
              "          Torgersen FEMALE                 22  37.436364                22   \n",
              "                    MALE                   21  40.752381                21   \n",
              "Chinstrap Dream     FEMALE                 34  46.573529                34   \n",
              "                    MALE                   33  51.069697                33   \n",
              "Gentoo    Biscoe    FEMALE                 58  45.563793                58   \n",
              "                    MALE                   60  49.510000                60   \n",
              "\n",
              "                                      Flipper Length (mm)              \\\n",
              "                                 mean                 len        mean   \n",
              "Species   Island    Sex                                                 \n",
              "Adelie    Biscoe    FEMALE  17.704545                  22  187.181818   \n",
              "                    MALE    19.036364                  22  190.409091   \n",
              "          Dream     FEMALE  17.618519                  27  187.851852   \n",
              "                    MALE    18.840000                  25  192.520000   \n",
              "          Torgersen FEMALE  17.536364                  22  188.727273   \n",
              "                    MALE    19.338095                  21  195.761905   \n",
              "Chinstrap Dream     FEMALE  17.588235                  34  191.735294   \n",
              "                    MALE    19.245455                  33  199.727273   \n",
              "Gentoo    Biscoe    FEMALE  14.237931                  58  212.706897   \n",
              "                    MALE    15.725000                  60  221.533333   \n",
              "\n",
              "                           Body Mass (g)              Delta 15 N (o/oo)  \\\n",
              "                                     len         mean               len   \n",
              "Species   Island    Sex                                                   \n",
              "Adelie    Biscoe    FEMALE            22  3369.318182                22   \n",
              "                    MALE              22  4050.000000                22   \n",
              "          Dream     FEMALE            27  3344.444444                27   \n",
              "                    MALE              25  4052.000000                25   \n",
              "          Torgersen FEMALE            22  3390.909091                22   \n",
              "                    MALE              21  4059.523810                21   \n",
              "Chinstrap Dream     FEMALE            34  3527.205882                34   \n",
              "                    MALE              33  3938.636364                33   \n",
              "Gentoo    Biscoe    FEMALE            58  4679.741379                58   \n",
              "                    MALE              60  5488.750000                60   \n",
              "\n",
              "                                     Delta 13 C (o/oo)             \n",
              "                                mean               len       mean  \n",
              "Species   Island    Sex                                            \n",
              "Adelie    Biscoe    FEMALE  8.774242                22 -25.920176  \n",
              "                    MALE    8.872945                22 -25.917227  \n",
              "          Dream     FEMALE  8.914803                27 -25.736636  \n",
              "                    MALE    8.984427                25 -25.759120  \n",
              "          Torgersen FEMALE  8.663160                22 -25.738735  \n",
              "                    MALE    8.919919                21 -25.835347  \n",
              "Chinstrap Dream     FEMALE  9.250962                34 -24.565405  \n",
              "                    MALE    9.464535                33 -24.550104  \n",
              "Gentoo    Biscoe    FEMALE  8.193405                58 -26.197205  \n",
              "                    MALE    8.303429                60 -26.170608  "
            ],
            "text/html": [
              "\n",
              "  <div id=\"df-da40624f-e236-4359-a6c7-0de92c423082\">\n",
              "    <div class=\"colab-df-container\">\n",
              "      <div>\n",
              "<style scoped>\n",
              "    .dataframe tbody tr th:only-of-type {\n",
              "        vertical-align: middle;\n",
              "    }\n",
              "\n",
              "    .dataframe tbody tr th {\n",
              "        vertical-align: top;\n",
              "    }\n",
              "\n",
              "    .dataframe thead tr th {\n",
              "        text-align: left;\n",
              "    }\n",
              "\n",
              "    .dataframe thead tr:last-of-type th {\n",
              "        text-align: right;\n",
              "    }\n",
              "</style>\n",
              "<table border=\"1\" class=\"dataframe\">\n",
              "  <thead>\n",
              "    <tr>\n",
              "      <th></th>\n",
              "      <th></th>\n",
              "      <th></th>\n",
              "      <th colspan=\"2\" halign=\"left\">Culmen Length (mm)</th>\n",
              "      <th colspan=\"2\" halign=\"left\">Culmen Depth (mm)</th>\n",
              "      <th colspan=\"2\" halign=\"left\">Flipper Length (mm)</th>\n",
              "      <th colspan=\"2\" halign=\"left\">Body Mass (g)</th>\n",
              "      <th colspan=\"2\" halign=\"left\">Delta 15 N (o/oo)</th>\n",
              "      <th colspan=\"2\" halign=\"left\">Delta 13 C (o/oo)</th>\n",
              "    </tr>\n",
              "    <tr>\n",
              "      <th></th>\n",
              "      <th></th>\n",
              "      <th></th>\n",
              "      <th>len</th>\n",
              "      <th>mean</th>\n",
              "      <th>len</th>\n",
              "      <th>mean</th>\n",
              "      <th>len</th>\n",
              "      <th>mean</th>\n",
              "      <th>len</th>\n",
              "      <th>mean</th>\n",
              "      <th>len</th>\n",
              "      <th>mean</th>\n",
              "      <th>len</th>\n",
              "      <th>mean</th>\n",
              "    </tr>\n",
              "    <tr>\n",
              "      <th>Species</th>\n",
              "      <th>Island</th>\n",
              "      <th>Sex</th>\n",
              "      <th></th>\n",
              "      <th></th>\n",
              "      <th></th>\n",
              "      <th></th>\n",
              "      <th></th>\n",
              "      <th></th>\n",
              "      <th></th>\n",
              "      <th></th>\n",
              "      <th></th>\n",
              "      <th></th>\n",
              "      <th></th>\n",
              "      <th></th>\n",
              "    </tr>\n",
              "  </thead>\n",
              "  <tbody>\n",
              "    <tr>\n",
              "      <th rowspan=\"6\" valign=\"top\">Adelie</th>\n",
              "      <th rowspan=\"2\" valign=\"top\">Biscoe</th>\n",
              "      <th>FEMALE</th>\n",
              "      <td>22</td>\n",
              "      <td>37.359091</td>\n",
              "      <td>22</td>\n",
              "      <td>17.704545</td>\n",
              "      <td>22</td>\n",
              "      <td>187.181818</td>\n",
              "      <td>22</td>\n",
              "      <td>3369.318182</td>\n",
              "      <td>22</td>\n",
              "      <td>8.774242</td>\n",
              "      <td>22</td>\n",
              "      <td>-25.920176</td>\n",
              "    </tr>\n",
              "    <tr>\n",
              "      <th>MALE</th>\n",
              "      <td>22</td>\n",
              "      <td>40.590909</td>\n",
              "      <td>22</td>\n",
              "      <td>19.036364</td>\n",
              "      <td>22</td>\n",
              "      <td>190.409091</td>\n",
              "      <td>22</td>\n",
              "      <td>4050.000000</td>\n",
              "      <td>22</td>\n",
              "      <td>8.872945</td>\n",
              "      <td>22</td>\n",
              "      <td>-25.917227</td>\n",
              "    </tr>\n",
              "    <tr>\n",
              "      <th rowspan=\"2\" valign=\"top\">Dream</th>\n",
              "      <th>FEMALE</th>\n",
              "      <td>27</td>\n",
              "      <td>36.911111</td>\n",
              "      <td>27</td>\n",
              "      <td>17.618519</td>\n",
              "      <td>27</td>\n",
              "      <td>187.851852</td>\n",
              "      <td>27</td>\n",
              "      <td>3344.444444</td>\n",
              "      <td>27</td>\n",
              "      <td>8.914803</td>\n",
              "      <td>27</td>\n",
              "      <td>-25.736636</td>\n",
              "    </tr>\n",
              "    <tr>\n",
              "      <th>MALE</th>\n",
              "      <td>25</td>\n",
              "      <td>40.012000</td>\n",
              "      <td>25</td>\n",
              "      <td>18.840000</td>\n",
              "      <td>25</td>\n",
              "      <td>192.520000</td>\n",
              "      <td>25</td>\n",
              "      <td>4052.000000</td>\n",
              "      <td>25</td>\n",
              "      <td>8.984427</td>\n",
              "      <td>25</td>\n",
              "      <td>-25.759120</td>\n",
              "    </tr>\n",
              "    <tr>\n",
              "      <th rowspan=\"2\" valign=\"top\">Torgersen</th>\n",
              "      <th>FEMALE</th>\n",
              "      <td>22</td>\n",
              "      <td>37.436364</td>\n",
              "      <td>22</td>\n",
              "      <td>17.536364</td>\n",
              "      <td>22</td>\n",
              "      <td>188.727273</td>\n",
              "      <td>22</td>\n",
              "      <td>3390.909091</td>\n",
              "      <td>22</td>\n",
              "      <td>8.663160</td>\n",
              "      <td>22</td>\n",
              "      <td>-25.738735</td>\n",
              "    </tr>\n",
              "    <tr>\n",
              "      <th>MALE</th>\n",
              "      <td>21</td>\n",
              "      <td>40.752381</td>\n",
              "      <td>21</td>\n",
              "      <td>19.338095</td>\n",
              "      <td>21</td>\n",
              "      <td>195.761905</td>\n",
              "      <td>21</td>\n",
              "      <td>4059.523810</td>\n",
              "      <td>21</td>\n",
              "      <td>8.919919</td>\n",
              "      <td>21</td>\n",
              "      <td>-25.835347</td>\n",
              "    </tr>\n",
              "    <tr>\n",
              "      <th rowspan=\"2\" valign=\"top\">Chinstrap</th>\n",
              "      <th rowspan=\"2\" valign=\"top\">Dream</th>\n",
              "      <th>FEMALE</th>\n",
              "      <td>34</td>\n",
              "      <td>46.573529</td>\n",
              "      <td>34</td>\n",
              "      <td>17.588235</td>\n",
              "      <td>34</td>\n",
              "      <td>191.735294</td>\n",
              "      <td>34</td>\n",
              "      <td>3527.205882</td>\n",
              "      <td>34</td>\n",
              "      <td>9.250962</td>\n",
              "      <td>34</td>\n",
              "      <td>-24.565405</td>\n",
              "    </tr>\n",
              "    <tr>\n",
              "      <th>MALE</th>\n",
              "      <td>33</td>\n",
              "      <td>51.069697</td>\n",
              "      <td>33</td>\n",
              "      <td>19.245455</td>\n",
              "      <td>33</td>\n",
              "      <td>199.727273</td>\n",
              "      <td>33</td>\n",
              "      <td>3938.636364</td>\n",
              "      <td>33</td>\n",
              "      <td>9.464535</td>\n",
              "      <td>33</td>\n",
              "      <td>-24.550104</td>\n",
              "    </tr>\n",
              "    <tr>\n",
              "      <th rowspan=\"2\" valign=\"top\">Gentoo</th>\n",
              "      <th rowspan=\"2\" valign=\"top\">Biscoe</th>\n",
              "      <th>FEMALE</th>\n",
              "      <td>58</td>\n",
              "      <td>45.563793</td>\n",
              "      <td>58</td>\n",
              "      <td>14.237931</td>\n",
              "      <td>58</td>\n",
              "      <td>212.706897</td>\n",
              "      <td>58</td>\n",
              "      <td>4679.741379</td>\n",
              "      <td>58</td>\n",
              "      <td>8.193405</td>\n",
              "      <td>58</td>\n",
              "      <td>-26.197205</td>\n",
              "    </tr>\n",
              "    <tr>\n",
              "      <th>MALE</th>\n",
              "      <td>60</td>\n",
              "      <td>49.510000</td>\n",
              "      <td>60</td>\n",
              "      <td>15.725000</td>\n",
              "      <td>60</td>\n",
              "      <td>221.533333</td>\n",
              "      <td>60</td>\n",
              "      <td>5488.750000</td>\n",
              "      <td>60</td>\n",
              "      <td>8.303429</td>\n",
              "      <td>60</td>\n",
              "      <td>-26.170608</td>\n",
              "    </tr>\n",
              "  </tbody>\n",
              "</table>\n",
              "</div>\n",
              "      <button class=\"colab-df-convert\" onclick=\"convertToInteractive('df-da40624f-e236-4359-a6c7-0de92c423082')\"\n",
              "              title=\"Convert this dataframe to an interactive table.\"\n",
              "              style=\"display:none;\">\n",
              "        \n",
              "  <svg xmlns=\"http://www.w3.org/2000/svg\" height=\"24px\"viewBox=\"0 0 24 24\"\n",
              "       width=\"24px\">\n",
              "    <path d=\"M0 0h24v24H0V0z\" fill=\"none\"/>\n",
              "    <path d=\"M18.56 5.44l.94 2.06.94-2.06 2.06-.94-2.06-.94-.94-2.06-.94 2.06-2.06.94zm-11 1L8.5 8.5l.94-2.06 2.06-.94-2.06-.94L8.5 2.5l-.94 2.06-2.06.94zm10 10l.94 2.06.94-2.06 2.06-.94-2.06-.94-.94-2.06-.94 2.06-2.06.94z\"/><path d=\"M17.41 7.96l-1.37-1.37c-.4-.4-.92-.59-1.43-.59-.52 0-1.04.2-1.43.59L10.3 9.45l-7.72 7.72c-.78.78-.78 2.05 0 2.83L4 21.41c.39.39.9.59 1.41.59.51 0 1.02-.2 1.41-.59l7.78-7.78 2.81-2.81c.8-.78.8-2.07 0-2.86zM5.41 20L4 18.59l7.72-7.72 1.47 1.35L5.41 20z\"/>\n",
              "  </svg>\n",
              "      </button>\n",
              "      \n",
              "  <style>\n",
              "    .colab-df-container {\n",
              "      display:flex;\n",
              "      flex-wrap:wrap;\n",
              "      gap: 12px;\n",
              "    }\n",
              "\n",
              "    .colab-df-convert {\n",
              "      background-color: #E8F0FE;\n",
              "      border: none;\n",
              "      border-radius: 50%;\n",
              "      cursor: pointer;\n",
              "      display: none;\n",
              "      fill: #1967D2;\n",
              "      height: 32px;\n",
              "      padding: 0 0 0 0;\n",
              "      width: 32px;\n",
              "    }\n",
              "\n",
              "    .colab-df-convert:hover {\n",
              "      background-color: #E2EBFA;\n",
              "      box-shadow: 0px 1px 2px rgba(60, 64, 67, 0.3), 0px 1px 3px 1px rgba(60, 64, 67, 0.15);\n",
              "      fill: #174EA6;\n",
              "    }\n",
              "\n",
              "    [theme=dark] .colab-df-convert {\n",
              "      background-color: #3B4455;\n",
              "      fill: #D2E3FC;\n",
              "    }\n",
              "\n",
              "    [theme=dark] .colab-df-convert:hover {\n",
              "      background-color: #434B5C;\n",
              "      box-shadow: 0px 1px 3px 1px rgba(0, 0, 0, 0.15);\n",
              "      filter: drop-shadow(0px 1px 2px rgba(0, 0, 0, 0.3));\n",
              "      fill: #FFFFFF;\n",
              "    }\n",
              "  </style>\n",
              "\n",
              "      <script>\n",
              "        const buttonEl =\n",
              "          document.querySelector('#df-da40624f-e236-4359-a6c7-0de92c423082 button.colab-df-convert');\n",
              "        buttonEl.style.display =\n",
              "          google.colab.kernel.accessAllowed ? 'block' : 'none';\n",
              "\n",
              "        async function convertToInteractive(key) {\n",
              "          const element = document.querySelector('#df-da40624f-e236-4359-a6c7-0de92c423082');\n",
              "          const dataTable =\n",
              "            await google.colab.kernel.invokeFunction('convertToInteractive',\n",
              "                                                     [key], {});\n",
              "          if (!dataTable) return;\n",
              "\n",
              "          const docLinkHtml = 'Like what you see? Visit the ' +\n",
              "            '<a target=\"_blank\" href=https://colab.research.google.com/notebooks/data_table.ipynb>data table notebook</a>'\n",
              "            + ' to learn more about interactive tables.';\n",
              "          element.innerHTML = '';\n",
              "          dataTable['output_type'] = 'display_data';\n",
              "          await google.colab.output.renderOutput(dataTable, element);\n",
              "          const docLink = document.createElement('div');\n",
              "          docLink.innerHTML = docLinkHtml;\n",
              "          element.appendChild(docLink);\n",
              "        }\n",
              "      </script>\n",
              "    </div>\n",
              "  </div>\n",
              "  "
            ]
          },
          "metadata": {},
          "execution_count": 19
        }
      ]
    },
    {
      "cell_type": "markdown",
      "source": [
        "From the data tables, it can be seen that Culmen length differentiates between the penguins whether we group by island and then sex or vice versa. Moreover, as said before, Flipper Lenght and Body Mass also have differing mean values and positive corelation\n",
        "\n",
        "Therefore, we need to select two features from:\n",
        "#### **Culmen length** and **Flipper Length OR Body Mass**"
      ],
      "metadata": {
        "id": "xyGBj61XpTA7"
      },
      "id": "xyGBj61XpTA7"
    },
    {
      "cell_type": "markdown",
      "source": [
        "### Hist Plot - Flipper Length vs Body Mass\n",
        "\n"
      ],
      "metadata": {
        "id": "0YbBxAbuFE6l"
      },
      "id": "0YbBxAbuFE6l"
    },
    {
      "cell_type": "markdown",
      "source": [
        "Since we had to first chose between Flipper Length and Body Mass, we will plot a histogram of each segregated by the species to visualise the data"
      ],
      "metadata": {
        "id": "zFLh2PdjgYuC"
      },
      "id": "zFLh2PdjgYuC"
    },
    {
      "cell_type": "code",
      "source": [
        "fgrid = sns.histplot(data = penguins,\n",
        "                    x =  'Flipper Length (mm)',\n",
        "                    hue = 'Species')\n"
      ],
      "metadata": {
        "colab": {
          "base_uri": "https://localhost:8080/"
        },
        "id": "XsYXh4qAgDoW",
        "outputId": "22670d6c-5422-4067-d748-cc280815545f"
      },
      "id": "XsYXh4qAgDoW",
      "execution_count": null,
      "outputs": [
        {
          "output_type": "display_data",
          "data": {
            "text/plain": [
              "<Figure size 432x288 with 1 Axes>"
            ],
            "image/png": "[encoded data removed]"
          },
          "metadata": {
            "needs_background": "light"
          }
        }
      ]
    },
    {
      "cell_type": "code",
      "source": [
        "fgrid = sns.histplot(data = penguins,\n",
        "                    x = 'Body Mass (g)',\n",
        "                    hue = 'Species')"
      ],
      "metadata": {
        "colab": {
          "base_uri": "https://localhost:8080/"
        },
        "id": "liGo8jsjgIQn",
        "outputId": "b9a8de7a-a095-4e7b-eab3-18bbb26e7a64"
      },
      "id": "liGo8jsjgIQn",
      "execution_count": null,
      "outputs": [
        {
          "output_type": "display_data",
          "data": {
            "text/plain": [
              "<Figure size 432x288 with 1 Axes>"
            ],
            "image/png": "[encoded data removed]"
          },
          "metadata": {
            "needs_background": "light"
          }
        }
      ]
    },
    {
      "cell_type": "markdown",
      "source": [
        "Since both graphs show a similar trend, it highlights the positive corelation between Flipper Length and Body mass, and shows that the species are varied across it. Therefore, choosing one of these features would be beneficial.\n",
        "\n",
        "When chosing body mass, Chinstraps are entirely overlapped with either of the other two species. Therefore, it is beneficial to select **Flipper Lenght (mm)**\n",
        "\n",
        "Moreover, selecting either of these features would have allowed identification of Gentoo since there is minimal overlap with Adelie or Chinstrap. Therefore, after having selected one of these quantitative features, it is now important to find something that specifically differentiates Adelia and Chinstrap from each other"
      ],
      "metadata": {
        "id": "iu-UIL-za3o-"
      },
      "id": "iu-UIL-za3o-"
    },
    {
      "cell_type": "markdown",
      "id": "8cf200d5",
      "metadata": {
        "id": "8cf200d5"
      },
      "source": [
        "Therefore, from the data tables and scatter plot, the quantitative features that we have chosen are:\n",
        "#### **Culmen Length (mm) and Flipper Length (mm)**"
      ]
    },
    {
      "cell_type": "markdown",
      "source": [
        "### Bar Plot - Island versus Sex\n"
      ],
      "metadata": {
        "id": "Ml4H3EMqFPm7"
      },
      "id": "Ml4H3EMqFPm7"
    },
    {
      "cell_type": "code",
      "source": [
        "fgrid = sns.barplot(data= penguins,\n",
        "                    x= \"Species\",\n",
        "                    y= \"Culmen Length (mm)\",\n",
        "                    hue= \"Sex\")\n",
        "\n",
        "plt.show"
      ],
      "metadata": {
        "colab": {
          "base_uri": "https://localhost:8080/"
        },
        "id": "uGPn9x2s_RYE",
        "outputId": "3bbbc612-71c5-40c0-912a-8461a55d61f2"
      },
      "id": "uGPn9x2s_RYE",
      "execution_count": null,
      "outputs": [
        {
          "output_type": "execute_result",
          "data": {
            "text/plain": [
              "<function matplotlib.pyplot.show(close=None, block=None)>"
            ]
          },
          "metadata": {},
          "execution_count": 22
        },
        {
          "output_type": "display_data",
          "data": {
            "text/plain": [
              "<Figure size 432x288 with 1 Axes>"
            ],
            "image/png": "[encoded data removed]"
          },
          "metadata": {
            "needs_background": "light"
          }
        }
      ]
    },
    {
      "cell_type": "code",
      "source": [
        "fgrid = sns.barplot(data= penguins,\n",
        "                    x= \"Species\",\n",
        "                    y= \"Culmen Length (mm)\",\n",
        "                    hue= \"Island\")\n",
        "\n",
        "plt.show"
      ],
      "metadata": {
        "colab": {
          "base_uri": "https://localhost:8080/"
        },
        "id": "cQ6HmYphEghw",
        "outputId": "8076b846-5669-4719-9bde-507f95318ed8"
      },
      "id": "cQ6HmYphEghw",
      "execution_count": null,
      "outputs": [
        {
          "output_type": "execute_result",
          "data": {
            "text/plain": [
              "<function matplotlib.pyplot.show(close=None, block=None)>"
            ]
          },
          "metadata": {},
          "execution_count": 23
        },
        {
          "output_type": "display_data",
          "data": {
            "text/plain": [
              "<Figure size 432x288 with 1 Axes>"
            ],
            "image/png": "[encoded data removed]"
          },
          "metadata": {
            "needs_background": "light"
          }
        }
      ]
    },
    {
      "cell_type": "markdown",
      "source": [
        "The two graphs suggest that for Culmen Length, the species vary according to their sex, more than by island, as Adelie penguins have the same values regardless of the Island. Moreover, Since there isnt an equal distrubution of penguins across the islands, it would be an unfair feature to train with. Therefore, we select Sex as the qualitative variable"
      ],
      "metadata": {
        "id": "eRLZU1AWF9uy"
      },
      "id": "eRLZU1AWF9uy"
    },
    {
      "cell_type": "markdown",
      "source": [
        "Therefore, from the bar plots, the qualitative feature that we have chosen is:\n",
        "####**Sex**"
      ],
      "metadata": {
        "id": "-CNM703BGfHc"
      },
      "id": "-CNM703BGfHc"
    },
    {
      "cell_type": "markdown",
      "source": [
        "### Scatter Plot - Visualising the selected features"
      ],
      "metadata": {
        "id": "Ian-LS8GHTS6"
      },
      "id": "Ian-LS8GHTS6"
    },
    {
      "cell_type": "markdown",
      "id": "de27518d",
      "metadata": {
        "id": "de27518d"
      },
      "source": [
        "Now that we have our three features: Culmen Length, Flipper Lenght and Sex, we can visualise it as a scatter plot to see how varied the features are"
      ]
    },
    {
      "cell_type": "code",
      "execution_count": null,
      "id": "39c897fd",
      "metadata": {
        "id": "39c897fd",
        "outputId": "2871a471-193f-4096-e93f-af5e5d25ead5",
        "colab": {
          "base_uri": "https://localhost:8080/"
        }
      },
      "outputs": [
        {
          "output_type": "display_data",
          "data": {
            "text/plain": [
              "<Figure size 804.125x360 with 2 Axes>"
            ],
            "image/png": "[encoded data removed]"
          },
          "metadata": {
            "needs_background": "light"
          }
        }
      ],
      "source": [
        "sns.relplot(data = penguins,\n",
        "            x = 'Culmen Length (mm)',\n",
        "            y = 'Flipper Length (mm)',\n",
        "            hue = 'Species',\n",
        "            col = 'Sex')\n",
        "plt.show()\n"
      ]
    },
    {
      "cell_type": "markdown",
      "id": "2dcc43fb",
      "metadata": {
        "id": "2dcc43fb"
      },
      "source": [
        "As seen from the scatter plot above, the species have been seperated into different clusters, allowing identification of the species based on these features.\n",
        "\n",
        "\n",
        "Therefore, our final features from our exploratory analysis are:\n",
        "#### **Culmen Length, Flipper Length, and Sex**\n"
      ]
    },
    {
      "cell_type": "markdown",
      "id": "daf82a93",
      "metadata": {
        "id": "daf82a93"
      },
      "source": [
        "## **Feature Selection:**"
      ]
    },
    {
      "cell_type": "markdown",
      "source": [
        "Uses automated features selection to find the combination of features that are highly predictive of a penguin's species"
      ],
      "metadata": {
        "id": "JvGn-25T1Mzp"
      },
      "id": "JvGn-25T1Mzp"
    },
    {
      "cell_type": "code",
      "execution_count": null,
      "id": "0b7700ce",
      "metadata": {
        "id": "0b7700ce"
      },
      "outputs": [],
      "source": [
        "def check_column_score(cols):\n",
        "    \"\"\"\n",
        "    Trains and evaluates a model via cross-validation on the columns of the data\n",
        "    with selected indices\n",
        "    \"\"\"\n",
        "    print(\"training with columns \" + str(cols))\n",
        "\n",
        "    LR = LogisticRegression(max_iter=6000)\n",
        "    return cross_val_score(LR, X_train[cols], Y_train, cv = 5).mean()"
      ]
    },
    {
      "cell_type": "code",
      "execution_count": null,
      "id": "5cf75465",
      "metadata": {
        "id": "5cf75465",
        "outputId": "72ddda21-d0e6-4f31-b4f5-bfdc834c8ee8",
        "colab": {
          "base_uri": "https://localhost:8080/"
        }
      },
      "outputs": [
        {
          "output_type": "stream",
          "name": "stdout",
          "text": [
            "training with columns ['Sex', 'Culmen Length (mm)', 'Flipper Length (mm)']\n",
            "CV score is 0.957\n",
            "training with columns ['Sex', 'Culmen Length (mm)', 'Culmen Depth (mm)']\n",
            "CV score is 0.981\n",
            "training with columns ['Sex', 'Culmen Length (mm)', 'Body Mass (g)']\n",
            "CV score is 0.969\n",
            "training with columns ['Sex', 'Culmen Length (mm)', 'Delta 15 N (o/oo)']\n",
            "CV score is 0.95\n",
            "training with columns ['Sex', 'Culmen Length (mm)', 'Delta 13 C (o/oo)']\n",
            "CV score is 0.965\n",
            "training with columns ['Sex', 'Culmen Depth (mm)', 'Delta 13 C (o/oo)']\n",
            "CV score is 0.946\n",
            "training with columns ['Sex', 'Culmen Depth (mm)', 'Delta 15 N (o/oo)']\n",
            "CV score is 0.834\n",
            "training with columns ['Sex', 'Culmen Depth (mm)', 'Body Mass (g)']\n",
            "CV score is 0.767\n",
            "training with columns ['Sex', 'Culmen Depth (mm)', 'Flipper Length (mm)']\n",
            "CV score is 0.806\n",
            "training with columns ['Sex', 'Flipper Length (mm)', 'Body Mass (g)']\n",
            "CV score is 0.721\n",
            "training with columns ['Sex', 'Flipper Length (mm)', 'Delta 15 N (o/oo)']\n",
            "CV score is 0.865\n",
            "training with columns ['Sex', 'Flipper Length (mm)', 'Delta 13 C (o/oo)']\n",
            "CV score is 0.934\n",
            "training with columns ['Sex', 'Body Mass (g)', 'Delta 13 C (o/oo)']\n",
            "CV score is 0.794\n",
            "training with columns ['Sex', 'Body Mass (g)', 'Delta 15 N (o/oo)']\n",
            "CV score is 0.76\n",
            "training with columns ['Sex', 'Delta 13 C (o/oo)', 'Delta 15 N (o/oo)']\n",
            "CV score is 0.853\n",
            "training with columns ['Island', 'Culmen Length (mm)', 'Flipper Length (mm)']\n",
            "CV score is 0.957\n",
            "training with columns ['Island', 'Culmen Length (mm)', 'Culmen Depth (mm)']\n",
            "CV score is 0.965\n",
            "training with columns ['Island', 'Culmen Length (mm)', 'Body Mass (g)']\n",
            "CV score is 0.969\n",
            "training with columns ['Island', 'Culmen Length (mm)', 'Delta 15 N (o/oo)']\n",
            "CV score is 0.965\n",
            "training with columns ['Island', 'Culmen Length (mm)', 'Delta 13 C (o/oo)']\n",
            "CV score is 0.969\n",
            "training with columns ['Island', 'Culmen Depth (mm)', 'Delta 13 C (o/oo)']\n",
            "CV score is 0.938\n",
            "training with columns ['Island', 'Culmen Depth (mm)', 'Delta 15 N (o/oo)']\n",
            "CV score is 0.814\n",
            "training with columns ['Island', 'Culmen Depth (mm)', 'Body Mass (g)']\n",
            "CV score is 0.767\n",
            "training with columns ['Island', 'Culmen Depth (mm)', 'Flipper Length (mm)']\n",
            "CV score is 0.806\n",
            "training with columns ['Island', 'Flipper Length (mm)', 'Body Mass (g)']\n",
            "CV score is 0.694\n",
            "training with columns ['Island', 'Flipper Length (mm)', 'Delta 15 N (o/oo)']\n",
            "CV score is 0.857\n",
            "training with columns ['Island', 'Flipper Length (mm)', 'Delta 13 C (o/oo)']\n",
            "CV score is 0.946\n",
            "training with columns ['Island', 'Body Mass (g)', 'Delta 13 C (o/oo)']\n",
            "CV score is 0.736\n",
            "training with columns ['Island', 'Body Mass (g)', 'Delta 15 N (o/oo)']\n",
            "CV score is 0.748\n",
            "training with columns ['Island', 'Delta 13 C (o/oo)', 'Delta 15 N (o/oo)']\n",
            "CV score is 0.876\n"
          ]
        }
      ],
      "source": [
        "combos = [['Sex', 'Culmen Length (mm)', 'Flipper Length (mm)'],\n",
        "          ['Sex', 'Culmen Length (mm)', 'Culmen Depth (mm)'],\n",
        "          ['Sex', 'Culmen Length (mm)', 'Body Mass (g)'],\n",
        "          ['Sex', 'Culmen Length (mm)', 'Delta 15 N (o/oo)'],\n",
        "          ['Sex', 'Culmen Length (mm)', 'Delta 13 C (o/oo)'],\n",
        "          ['Sex', 'Culmen Depth (mm)', 'Delta 13 C (o/oo)'],\n",
        "          ['Sex', 'Culmen Depth (mm)', 'Delta 15 N (o/oo)'],\n",
        "          ['Sex', 'Culmen Depth (mm)', 'Body Mass (g)'],\n",
        "          ['Sex', 'Culmen Depth (mm)', 'Flipper Length (mm)'],\n",
        "          ['Sex', 'Flipper Length (mm)', 'Body Mass (g)'],\n",
        "          ['Sex', 'Flipper Length (mm)', 'Delta 15 N (o/oo)'],\n",
        "          ['Sex', 'Flipper Length (mm)', 'Delta 13 C (o/oo)'],\n",
        "          ['Sex', 'Body Mass (g)', 'Delta 13 C (o/oo)'],\n",
        "          ['Sex', 'Body Mass (g)', 'Delta 15 N (o/oo)'],\n",
        "          ['Sex', 'Delta 13 C (o/oo)', 'Delta 15 N (o/oo)'],\n",
        "\n",
        "          ['Island', 'Culmen Length (mm)', 'Flipper Length (mm)'],\n",
        "          ['Island', 'Culmen Length (mm)', 'Culmen Depth (mm)'],\n",
        "          ['Island', 'Culmen Length (mm)', 'Body Mass (g)'],\n",
        "          ['Island', 'Culmen Length (mm)', 'Delta 15 N (o/oo)'],\n",
        "          ['Island', 'Culmen Length (mm)', 'Delta 13 C (o/oo)'],\n",
        "          ['Island', 'Culmen Depth (mm)', 'Delta 13 C (o/oo)'],\n",
        "          ['Island', 'Culmen Depth (mm)', 'Delta 15 N (o/oo)'],\n",
        "          ['Island', 'Culmen Depth (mm)', 'Body Mass (g)'],\n",
        "          ['Island', 'Culmen Depth (mm)', 'Flipper Length (mm)'],\n",
        "          ['Island', 'Flipper Length (mm)', 'Body Mass (g)'],\n",
        "          ['Island', 'Flipper Length (mm)', 'Delta 15 N (o/oo)'],\n",
        "          ['Island', 'Flipper Length (mm)', 'Delta 13 C (o/oo)'],\n",
        "          ['Island', 'Body Mass (g)', 'Delta 13 C (o/oo)'],\n",
        "          ['Island', 'Body Mass (g)', 'Delta 15 N (o/oo)'],\n",
        "          ['Island', 'Delta 13 C (o/oo)', 'Delta 15 N (o/oo)']]\n",
        "\n",
        "for cols in combos:\n",
        "    x = check_column_score(cols)\n",
        "    print(\"CV score is \" + str(np.round(x, 3)))"
      ]
    },
    {
      "cell_type": "markdown",
      "source": [
        "As seen from the CV scores above, the features that were chosen were not the ones that provided the ideal result although they did have a relatively high CV value as well.\n",
        "\n",
        "Moreover, there was also human error in selecting the second quantitative feature since Body mass instead of flipper length returns a higher CV score. However, the difference is with of 0.02 and thus difficult to understand simply by visualising. Therefore, this highlights the importance of the cross value score to finalise the most important features when sorting through data to make predictions.\n",
        "\n",
        "In conlusion from the automated feature selection, the best features which resulted in the  highest Cross Valuation score was:\n",
        "\n",
        "#### **Sex, Culmen Length (mm) and Culmen Depth (mm)**"
      ],
      "metadata": {
        "id": "eEfCIa1y-kVl"
      },
      "id": "eEfCIa1y-kVl"
    },
    {
      "cell_type": "markdown",
      "source": [
        "## **Modeling:**"
      ],
      "metadata": {
        "id": "iQXFRNDr_Zrs"
      },
      "id": "iQXFRNDr_Zrs"
    },
    {
      "cell_type": "markdown",
      "source": [
        "Now that we have the features that return the highest score, we can create models to predict the species of the penguin.\n",
        "\n",
        "To do so, we first create the model, and predict the y values using the same on our test data.\n",
        "\n",
        "We then create a confusion matrix to be able to visualise the accuracy of each model, as it highlights where each penguin was classified and how accurately.\n",
        "\n",
        "Lastly, we then create decision regions to evaluate the model's performance on the data set.\n"
      ],
      "metadata": {
        "id": "gg7F4AUfHkXH"
      },
      "id": "gg7F4AUfHkXH"
    },
    {
      "cell_type": "markdown",
      "source": [
        "##### **Decision Regions Function**"
      ],
      "metadata": {
        "id": "TYol-9FVYado"
      },
      "id": "TYol-9FVYado"
    },
    {
      "cell_type": "code",
      "source": [
        "def plot_region(T,x,y):\n",
        "\n",
        "    '''\n",
        "\n",
        "      function returns a specific region within the input space which corresponds to a unique output class based on the Machine learning model used\n",
        "    Args:\n",
        "        T: Initiated Machine leaning model\n",
        "        x: numpy array of X_test dataset containing all columns excluding [species] variable\n",
        "        y: numpy array of species in the dataframe\n",
        "    Returns:\n",
        "        plot of specific regions within the input space which corresponds to a unique output class based on the Machine learning model used\n",
        "\n",
        "\n",
        "    '''\n",
        "\n",
        "    T.fit(x,y)\n",
        "\n",
        "    for i in range(2):\n",
        "\n",
        "        xtemp = x[x[\"Sex\"]==i]\n",
        "        ytemp = y[x[\"Sex\"]==i]\n",
        "\n",
        "\n",
        "        x0=xtemp[\"Culmen Length (mm)\"]\n",
        "        x1=xtemp[\"Culmen Depth (mm)\"]\n",
        "\n",
        "        grid_x=np.linspace(x0.min(),x0.max(),501)\n",
        "        grid_y=np.linspace(x1.min(),x1.max(),501)\n",
        "\n",
        "        xx,yy=np.meshgrid(grid_x,grid_y)\n",
        "\n",
        "        zz=np.ones(xx.shape)*i\n",
        "        ZZ=zz.ravel()\n",
        "        XX=xx.ravel()\n",
        "        YY=yy.ravel()\n",
        "\n",
        "        p=T.predict(np.c_[XX,YY,ZZ]) # c stands for concatenation\n",
        "        p=p.reshape(xx.shape)\n",
        "\n",
        "        fig,ax=plt.subplots(1)\n",
        "        ax.scatter(x0,x1,c=ytemp,cmap=\"jet\",alpha=1)\n",
        "\n",
        "        #this makes our decision regions\n",
        "        ax.contourf(xx,yy,p,cmap=\"jet\",alpha=0.2)\n",
        "\n",
        "        ax.set(xlabel=\"Culmen Length (mm)\",ylabel=\"Culmen Depth (mm)\",title=f\"{i}\")"
      ],
      "metadata": {
        "id": "-lJ8kjbTYVCK"
      },
      "id": "-lJ8kjbTYVCK",
      "execution_count": null,
      "outputs": []
    },
    {
      "cell_type": "markdown",
      "source": [
        "##### **Data set with highest cross validation score**"
      ],
      "metadata": {
        "id": "vvE4O__nYlB2"
      },
      "id": "vvE4O__nYlB2"
    },
    {
      "cell_type": "code",
      "source": [
        "cols=[\"Culmen Length (mm)\",\"Culmen Depth (mm)\",\"Sex\"]\n",
        "x_train = X_train[cols]\n",
        "x_test = X_test[cols]"
      ],
      "metadata": {
        "id": "oHmKcnGJYvKn"
      },
      "id": "oHmKcnGJYvKn",
      "execution_count": null,
      "outputs": []
    },
    {
      "cell_type": "markdown",
      "source": [
        "### Linear Regression"
      ],
      "metadata": {
        "id": "nj0JSZx7relp"
      },
      "id": "nj0JSZx7relp"
    },
    {
      "cell_type": "markdown",
      "source": [
        "#### Creating the model"
      ],
      "metadata": {
        "id": "NAsGu7F4BdQn"
      },
      "id": "NAsGu7F4BdQn"
    },
    {
      "cell_type": "code",
      "source": [
        "#Used the graph above to find the optimal level of iterations to prevent overfitting to the best of our abilities\n",
        "\n",
        "import matplotlib.pyplot as plt\n",
        "\n",
        "iter1 = []\n",
        "LR_Scoreeee = []\n",
        "\n",
        "for iter in range(1,100):\n",
        "  LR = LogisticRegression(multi_class = \"multinomial\", solver = \"lbfgs\",max_iter=iter)\n",
        "  LR.fit(X_train, Y_train)\n",
        "  LR_Scoreeee.append(LR.score(X_train, Y_train))\n",
        "  iter1.append(iter)\n",
        "\n",
        "plt.xticks(np.arange(0, 100, 4))\n",
        "plt.plot(iter1, LR_Scoreeee)"
      ],
      "metadata": {
        "colab": {
          "base_uri": "https://localhost:8080/",
          "height": 283
        },
        "id": "26GLqwvIRA5n",
        "outputId": "287f5bc9-a70c-45ab-e20b-405d92a68ce2"
      },
      "id": "26GLqwvIRA5n",
      "execution_count": null,
      "outputs": [
        {
          "output_type": "execute_result",
          "data": {
            "text/plain": [
              "[<matplotlib.lines.Line2D at 0x7f9dba7cacd0>]"
            ]
          },
          "metadata": {},
          "execution_count": 29
        },
        {
          "output_type": "display_data",
          "data": {
            "text/plain": [
              "<Figure size 432x288 with 1 Axes>"
            ],
            "image/png": "[encoded data removed]"
          },
          "metadata": {
            "needs_background": "light"
          }
        }
      ]
    },
    {
      "cell_type": "markdown",
      "source": [
        "From the graph above, the ideal iteration limit is between 52 to 60 since there is a chance of overfitting beyond this value"
      ],
      "metadata": {
        "id": "Xdxv5ZlaVSuU"
      },
      "id": "Xdxv5ZlaVSuU"
    },
    {
      "cell_type": "code",
      "source": [
        "LR = LogisticRegression(multi_class = \"multinomial\", solver = \"lbfgs\",max_iter=56)\n",
        "LR.fit(x_train, Y_train)\n",
        "LR.score(x_train, Y_train)\n"
      ],
      "metadata": {
        "colab": {
          "base_uri": "https://localhost:8080/"
        },
        "id": "TrliJ2mPrhUn",
        "outputId": "c9c533c6-8ecb-46ab-9980-c817408f63d5"
      },
      "id": "TrliJ2mPrhUn",
      "execution_count": null,
      "outputs": [
        {
          "output_type": "execute_result",
          "data": {
            "text/plain": [
              "0.9922480620155039"
            ]
          },
          "metadata": {},
          "execution_count": 30
        }
      ]
    },
    {
      "cell_type": "markdown",
      "source": [
        "####Predicting the Y values with the model"
      ],
      "metadata": {
        "id": "g2gQfzBTBhVU"
      },
      "id": "g2gQfzBTBhVU"
    },
    {
      "cell_type": "code",
      "source": [
        "# Evaluate the model\n",
        "y_predLR = LR.predict(x_test)\n",
        "LR_testscore = LR.score(x_test, y_predLR)\n",
        "\n",
        "print (LR_testscore)\n"
      ],
      "metadata": {
        "id": "qnCPp9G7sFw5",
        "colab": {
          "base_uri": "https://localhost:8080/"
        },
        "outputId": "db834f0e-57fb-423d-bd07-0bf590627b42"
      },
      "id": "qnCPp9G7sFw5",
      "execution_count": null,
      "outputs": [
        {
          "output_type": "stream",
          "name": "stdout",
          "text": [
            "1.0\n"
          ]
        }
      ]
    },
    {
      "cell_type": "markdown",
      "source": [
        "####Confusion Matrix"
      ],
      "metadata": {
        "id": "_qHFs3C0Bq4K"
      },
      "id": "_qHFs3C0Bq4K"
    },
    {
      "cell_type": "code",
      "source": [
        "# Create a confusion matrix for the model\n",
        "confusion_matLR = confusion_matrix(Y_test, y_predLR)\n",
        "print (confusion_matLR)\n",
        "\n",
        "cm1 = sns.heatmap(confusion_matLR, annot=True, cmap='Blues', fmt='g')\n",
        "cm1.set(xlabel = \"Predicted\", ylabel = 'True')\n",
        "plt.title(f'Accuracy: {LR_testscore}')\n",
        "plt.show"
      ],
      "metadata": {
        "id": "WPTyB9JQsGdH",
        "colab": {
          "base_uri": "https://localhost:8080/",
          "height": 366
        },
        "outputId": "b3151088-656e-48af-aa82-832e02a53b47"
      },
      "id": "WPTyB9JQsGdH",
      "execution_count": null,
      "outputs": [
        {
          "output_type": "stream",
          "name": "stdout",
          "text": [
            "[[32  0  0]\n",
            " [ 0  8  0]\n",
            " [ 0  0 26]]\n"
          ]
        },
        {
          "output_type": "execute_result",
          "data": {
            "text/plain": [
              "<function matplotlib.pyplot.show(close=None, block=None)>"
            ]
          },
          "metadata": {},
          "execution_count": 35
        },
        {
          "output_type": "display_data",
          "data": {
            "text/plain": [
              "<Figure size 432x288 with 2 Axes>"
            ],
            "image/png": "[encoded data removed]"
          },
          "metadata": {
            "needs_background": "light"
          }
        }
      ]
    },
    {
      "cell_type": "markdown",
      "source": [
        "The confusion matrix shows that all the penguins were correctly classified into their species using a Logistic Regression Model of machine learning.\n"
      ],
      "metadata": {
        "id": "X8EdNt7u2S5t"
      },
      "id": "X8EdNt7u2S5t"
    },
    {
      "cell_type": "markdown",
      "source": [
        "#### Decision Region"
      ],
      "metadata": {
        "id": "J10rDNMePxGO"
      },
      "id": "J10rDNMePxGO"
    },
    {
      "cell_type": "code",
      "source": [
        "plot_region(LR,x_test,Y_test)"
      ],
      "metadata": {
        "colab": {
          "base_uri": "https://localhost:8080/",
          "height": 573
        },
        "id": "PWh951OVQiOv",
        "outputId": "2cededec-44e2-41bd-d5cb-db7237bf0fc9"
      },
      "id": "PWh951OVQiOv",
      "execution_count": null,
      "outputs": [
        {
          "output_type": "display_data",
          "data": {
            "text/plain": [
              "<Figure size 432x288 with 1 Axes>"
            ],
            "image/png": "[encoded data removed]"
          },
          "metadata": {
            "needs_background": "light"
          }
        },
        {
          "output_type": "display_data",
          "data": {
            "text/plain": [
              "<Figure size 432x288 with 1 Axes>"
            ],
            "image/png": "[encoded data removed]"
          },
          "metadata": {
            "needs_background": "light"
          }
        }
      ]
    },
    {
      "cell_type": "markdown",
      "source": [
        "The decision regions too show that each penguin was correctly assigned its spcies when fit to this LR model.\n",
        "\n",
        "A problem with Linear Regression model is that it  assumes that the connection between the input variables and the output variable is linear, which means that the decision areas for a linear regression model will always be linear.\n",
        "\n",
        "linear regression models can be affected by outliers in the data, which can have an impact on the model's decision areas and result in poor performance."
      ],
      "metadata": {
        "id": "alAAlOme20YW"
      },
      "id": "alAAlOme20YW"
    },
    {
      "cell_type": "markdown",
      "source": [
        "### Random Forest Classifier"
      ],
      "metadata": {
        "id": "dhoR-ZyQ75ai"
      },
      "id": "dhoR-ZyQ75ai"
    },
    {
      "cell_type": "markdown",
      "source": [
        "#### Creating the model"
      ],
      "metadata": {
        "id": "IWeXd7CNsoKa"
      },
      "id": "IWeXd7CNsoKa"
    },
    {
      "cell_type": "code",
      "source": [
        "depth1 = []\n",
        "RFC_S = []\n",
        "\n",
        "for depth in range(1,10):\n",
        "  RFC = RandomForestClassifier(max_depth=depth)\n",
        "  RFC.fit(x_train, Y_train)\n",
        "  RFC_S.append(RFC.score(x_train, Y_train))\n",
        "  depth1.append(depth)\n",
        "\n",
        "plt.xticks(np.arange(0, 50, 2))\n",
        "plt.plot(depth1, RFC_S)"
      ],
      "metadata": {
        "colab": {
          "base_uri": "https://localhost:8080/",
          "height": 283
        },
        "id": "4F8GFNLkWChx",
        "outputId": "2e665f4e-5de4-441c-cbd5-8ffe978edb21"
      },
      "id": "4F8GFNLkWChx",
      "execution_count": null,
      "outputs": [
        {
          "output_type": "execute_result",
          "data": {
            "text/plain": [
              "[<matplotlib.lines.Line2D at 0x7f9db9495580>]"
            ]
          },
          "metadata": {},
          "execution_count": 37
        },
        {
          "output_type": "display_data",
          "data": {
            "text/plain": [
              "<Figure size 432x288 with 1 Axes>"
            ],
            "image/png": "[encoded data removed]"
          },
          "metadata": {
            "needs_background": "light"
          }
        }
      ]
    },
    {
      "cell_type": "markdown",
      "source": [
        "highest value for max_depth before the model starts overfitting is seen to be around 3 from the graph above"
      ],
      "metadata": {
        "id": "jpFHsZF93Kck"
      },
      "id": "jpFHsZF93Kck"
    },
    {
      "cell_type": "code",
      "source": [
        "# Create the model\n",
        "\n",
        "RFC = RandomForestClassifier(n_estimators=50, max_depth=3)\n",
        "RFC.fit(x_train, Y_train)\n",
        "RFC.score(x_train, Y_train)"
      ],
      "metadata": {
        "colab": {
          "base_uri": "https://localhost:8080/"
        },
        "id": "_qA3c52M_YeE",
        "outputId": "5d8d0ff6-9ea6-4c8d-83a4-8e91b0faaf5e"
      },
      "id": "_qA3c52M_YeE",
      "execution_count": null,
      "outputs": [
        {
          "output_type": "execute_result",
          "data": {
            "text/plain": [
              "0.9806201550387597"
            ]
          },
          "metadata": {},
          "execution_count": 38
        }
      ]
    },
    {
      "cell_type": "markdown",
      "source": [
        "#### Predicting Y values with the model"
      ],
      "metadata": {
        "id": "TUQNjK9vswdZ"
      },
      "id": "TUQNjK9vswdZ"
    },
    {
      "cell_type": "code",
      "source": [
        "# Evaluate the model\n",
        "y_predRFC = RFC.predict(x_test)\n",
        "RFC_testscore = RFC.score(x_test, Y_test)\n",
        "\n",
        "print (RFC_testscore)\n"
      ],
      "metadata": {
        "colab": {
          "base_uri": "https://localhost:8080/"
        },
        "id": "WT-kduQBFnax",
        "outputId": "b92ca471-bb20-43e4-ed4d-30c721c8a44d"
      },
      "id": "WT-kduQBFnax",
      "execution_count": null,
      "outputs": [
        {
          "output_type": "stream",
          "name": "stdout",
          "text": [
            "0.9848484848484849\n"
          ]
        }
      ]
    },
    {
      "cell_type": "markdown",
      "source": [
        "#### Confusion Matrix"
      ],
      "metadata": {
        "id": "cVkeO7nss7vo"
      },
      "id": "cVkeO7nss7vo"
    },
    {
      "cell_type": "code",
      "source": [
        "# Create a confusion matrix for the model\n",
        "confusion_matRFC = confusion_matrix(Y_test, y_predRFC)\n",
        "print (confusion_matRFC)\n",
        "print ('\\n')\n",
        "\n",
        "cm2 = sns.heatmap(confusion_matRFC, annot=True, cmap='Blues', fmt='g')\n",
        "cm2.set(xlabel = 'Predicted', ylabel = 'True')\n",
        "plt.title(f'Accuracy: {RFC_testscore}')\n",
        "plt.show"
      ],
      "metadata": {
        "id": "8WS4C5LeCNEx",
        "colab": {
          "base_uri": "https://localhost:8080/",
          "height": 402
        },
        "outputId": "3346eb6d-6ba7-46c6-e7ef-affea279ce83"
      },
      "id": "8WS4C5LeCNEx",
      "execution_count": null,
      "outputs": [
        {
          "output_type": "stream",
          "name": "stdout",
          "text": [
            "[[31  1  0]\n",
            " [ 0  8  0]\n",
            " [ 0  0 26]]\n",
            "\n",
            "\n"
          ]
        },
        {
          "output_type": "execute_result",
          "data": {
            "text/plain": [
              "<function matplotlib.pyplot.show(close=None, block=None)>"
            ]
          },
          "metadata": {},
          "execution_count": 47
        },
        {
          "output_type": "display_data",
          "data": {
            "text/plain": [
              "<Figure size 432x288 with 2 Axes>"
            ],
            "image/png": "[encoded data removed]"
          },
          "metadata": {
            "needs_background": "light"
          }
        }
      ]
    },
    {
      "cell_type": "markdown",
      "source": [
        "There was error in classifying one penguin as Chinstrap was label to be Adelie"
      ],
      "metadata": {
        "id": "uEsPI0vj3e4Y"
      },
      "id": "uEsPI0vj3e4Y"
    },
    {
      "cell_type": "markdown",
      "source": [
        "#### Decision Region"
      ],
      "metadata": {
        "id": "Y6Ucja5ErHVX"
      },
      "id": "Y6Ucja5ErHVX"
    },
    {
      "cell_type": "code",
      "source": [
        "plot_region(RFC,x_test,Y_test)"
      ],
      "metadata": {
        "id": "9fQ2XRwz9Cx7",
        "colab": {
          "base_uri": "https://localhost:8080/",
          "height": 573
        },
        "outputId": "d26fa662-a261-44ee-aea8-3dbe02cff8d0"
      },
      "id": "9fQ2XRwz9Cx7",
      "execution_count": null,
      "outputs": [
        {
          "output_type": "display_data",
          "data": {
            "text/plain": [
              "<Figure size 432x288 with 1 Axes>"
            ],
            "image/png": "[encoded data removed]"
          },
          "metadata": {
            "needs_background": "light"
          }
        },
        {
          "output_type": "display_data",
          "data": {
            "text/plain": [
              "<Figure size 432x288 with 1 Axes>"
            ],
            "image/png": "[encoded data removed]"
          },
          "metadata": {
            "needs_background": "light"
          }
        }
      ]
    },
    {
      "cell_type": "markdown",
      "source": [
        "Random forest models are non-linear and can model complicated relationships between the input and output variables. However, they may overfit the training data, which can lead to poor performance on new, unseen data. This can result in decision regions that are too specific to the training data and do not generalize well to new data. Moreover, if the data is unbalanced, the model may give preference to the majority class and create decision regions that do not represent the minority class effectively."
      ],
      "metadata": {
        "id": "E6p8oVv9Wvlm"
      },
      "id": "E6p8oVv9Wvlm"
    },
    {
      "cell_type": "markdown",
      "source": [
        "### K-nearest Neighbor"
      ],
      "metadata": {
        "id": "TWtVePHstSA2"
      },
      "id": "TWtVePHstSA2"
    },
    {
      "cell_type": "code",
      "source": [
        "from sklearn.neighbors import KNeighborsClassifier\n",
        "\n",
        "knn = KNeighborsClassifier(n_neighbors=4)\n",
        "knn.fit(x_train, Y_train)\n",
        "knn.score(x_train, Y_train)"
      ],
      "metadata": {
        "colab": {
          "base_uri": "https://localhost:8080/"
        },
        "id": "4IX8EAJuQuCI",
        "outputId": "0bb2fbd8-7809-427e-bb3a-ac685388297e"
      },
      "id": "4IX8EAJuQuCI",
      "execution_count": null,
      "outputs": [
        {
          "output_type": "execute_result",
          "data": {
            "text/plain": [
              "0.9844961240310077"
            ]
          },
          "metadata": {},
          "execution_count": 42
        }
      ]
    },
    {
      "cell_type": "code",
      "source": [
        "y_predKNN = knn.predict(x_test)\n",
        "\n",
        "# Evaluate the model's accuracy\n",
        "accuracy = accuracy_score(Y_test, y_predKNN)\n",
        "print(\"Accuracy:\", accuracy)"
      ],
      "metadata": {
        "colab": {
          "base_uri": "https://localhost:8080/"
        },
        "id": "QcZ0HCX5Rpl0",
        "outputId": "42068e64-d200-481f-8f32-11b4947c4fe3"
      },
      "id": "QcZ0HCX5Rpl0",
      "execution_count": null,
      "outputs": [
        {
          "output_type": "stream",
          "name": "stdout",
          "text": [
            "Accuracy: 0.9848484848484849\n"
          ]
        }
      ]
    },
    {
      "cell_type": "code",
      "source": [
        "# Create a confusion matrix for the model\n",
        "confusion_matKNN = confusion_matrix(Y_test, y_predKNN)\n",
        "print (confusion_matKNN)\n",
        "print ('\\n')\n",
        "\n",
        "sns.heatmap(confusion_matKNN, annot=True, cmap='Blues', fmt='g')\n",
        "plt.title(f'Accuracy: {RFC_testscore}')\n",
        "plt.show"
      ],
      "metadata": {
        "colab": {
          "base_uri": "https://localhost:8080/",
          "height": 388
        },
        "id": "BOFimn8YR302",
        "outputId": "3b082c4f-9dfc-4835-de0f-4dfb38c1254f"
      },
      "id": "BOFimn8YR302",
      "execution_count": null,
      "outputs": [
        {
          "output_type": "stream",
          "name": "stdout",
          "text": [
            "[[32  0  0]\n",
            " [ 0  8  0]\n",
            " [ 0  1 25]]\n",
            "\n",
            "\n"
          ]
        },
        {
          "output_type": "execute_result",
          "data": {
            "text/plain": [
              "<function matplotlib.pyplot.show(close=None, block=None)>"
            ]
          },
          "metadata": {},
          "execution_count": 44
        },
        {
          "output_type": "display_data",
          "data": {
            "text/plain": [
              "<Figure size 432x288 with 2 Axes>"
            ],
            "image/png": "[encoded data removed]"
          },
          "metadata": {
            "needs_background": "light"
          }
        }
      ]
    },
    {
      "cell_type": "markdown",
      "source": [
        "#### Decision Region"
      ],
      "metadata": {
        "id": "sqGyK3z8Z_V-"
      },
      "id": "sqGyK3z8Z_V-"
    },
    {
      "cell_type": "code",
      "source": [
        "plot_region(knn,x_test,Y_test)"
      ],
      "metadata": {
        "colab": {
          "base_uri": "https://localhost:8080/",
          "height": 573
        },
        "id": "n-8pFPrPZ8nY",
        "outputId": "3061eb72-70ad-4177-fcd6-15b639e188e4"
      },
      "id": "n-8pFPrPZ8nY",
      "execution_count": null,
      "outputs": [
        {
          "output_type": "display_data",
          "data": {
            "text/plain": [
              "<Figure size 432x288 with 1 Axes>"
            ],
            "image/png": "[encoded data removed]"
          },
          "metadata": {
            "needs_background": "light"
          }
        },
        {
          "output_type": "display_data",
          "data": {
            "text/plain": [
              "<Figure size 432x288 with 1 Axes>"
            ],
            "image/png": "[encoded data removed]"
          },
          "metadata": {
            "needs_background": "light"
          }
        }
      ]
    },
    {
      "cell_type": "markdown",
      "source": [
        " KNN models are sensitive to the choice of the number of nearest neighbors used to make predictions. If the wrong number of neighbors is used, the model may overfit or underfit the data and create decision regions that do not accurately represent the true decision boundaries."
      ],
      "metadata": {
        "id": "AHSiCrmXW06Z"
      },
      "id": "AHSiCrmXW06Z"
    },
    {
      "cell_type": "markdown",
      "source": [
        "## **Discussion**"
      ],
      "metadata": {
        "id": "kBiBJorZtypH"
      },
      "id": "kBiBJorZtypH"
    },
    {
      "cell_type": "markdown",
      "source": [
        "The Linear Regression model is highly accurate with the accuracy score of the test data as 1.0. The Random Forest Classifier model and K-nearest neighbor are relatively less accurate than Linear Regression model. After modeling the data, we would recommend using Linear Regression model evaluating Culmen  Depth, Culmen Length, and Sex.\n",
        "\n",
        "The availability of more data can improve the accuracy of the model because it provides more information to train the model. Additionally, a larger dataset makes it easier to identify outliers, leading to more apparent trends and distributions in the data. With more data, variance is increased while bias is decreased, which can lead to improved accuracy.\n",
        "If different data is available, the model can be improved by using the new data to create new combinations. The effectiveness of these new combinations can be measured using the cross-validation score, and if the score is higher than the current score, accuracy is improved. However, it is crucial to ensure that the new data is relevant and adds value to the model's feature set.\n",
        "\n",
        "Another way to enhance the Linear Regression model's performance is to explore other regression models, such as polynomial regression or ridge regression, which can capture more complex relationships between the input and output variables."
      ],
      "metadata": {
        "id": "0eMEVP5_VxJY"
      },
      "id": "0eMEVP5_VxJY"
    }
  ],
  "metadata": {
    "kernelspec": {
      "display_name": "Python 3 (ipykernel)",
      "language": "python",
      "name": "python3"
    },
    "language_info": {
      "codemirror_mode": {
        "name": "ipython",
        "version": 3
      },
      "file_extension": ".py",
      "mimetype": "text/x-python",
      "name": "python",
      "nbconvert_exporter": "python",
      "pygments_lexer": "ipython3",
      "version": "3.9.13"
    },
    "colab": {
      "provenance": [],
      "collapsed_sections": [
        "2ea50d85",
        "25d57935",
        "KjYmY2OBMoXL",
        "0YbBxAbuFE6l",
        "Ml4H3EMqFPm7",
        "Ian-LS8GHTS6",
        "daf82a93",
        "TYol-9FVYado",
        "vvE4O__nYlB2",
        "nj0JSZx7relp",
        "cVkeO7nss7vo"
      ],
      "include_colab_link": true
    }
  },
  "nbformat": 4,
  "nbformat_minor": 5
}